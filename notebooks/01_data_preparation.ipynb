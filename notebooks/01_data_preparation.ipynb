{
 "cells": [
  {
   "cell_type": "code",
   "execution_count": 1,
   "metadata": {},
   "outputs": [],
   "source": [
    "import os\n"
   ]
  },
  {
   "cell_type": "markdown",
   "metadata": {},
   "source": [
    "This notebook prepares the data for the rural beauty model, by reprojecting, cropping and or resampling of raw datasets.\n",
    "\n",
    "To do so, it loads paths from the rural_beauty/rural_beauty/config.py. \n",
    "\n",
    "It then either calls python functions from the same module or calls bash and R scripts from the scripts folder. \n",
    "To do the latter, variable are passed to the OS. "
   ]
  },
  {
   "cell_type": "code",
   "execution_count": 1,
   "metadata": {},
   "outputs": [],
   "source": [
    "%load_ext rpy2.ipython"
   ]
  },
  {
   "cell_type": "markdown",
   "metadata": {},
   "source": [
    "# Beauty/Uniqueness/Diversity\n",
    "\n",
    "Transform the beauty shapefiles to raster data.\n"
   ]
  },
  {
   "cell_type": "code",
   "execution_count": 3,
   "metadata": {},
   "outputs": [
    {
     "name": "stdout",
     "output_type": "stream",
     "text": [
      "This is the rural_beauty module\n"
     ]
    }
   ],
   "source": [
    "# import paths from config.py\n",
    "from rural_beauty.config import bild_vector_dir, bild_raster_dir # load absolute paths as defined in config.py\n",
    "\n",
    "# pass them to the OS\n",
    "os.environ['bild_vector_dir'] = str(bild_vector_dir)\n",
    "os.environ['bild_raster_dir'] = str(bild_raster_dir)\n"
   ]
  },
  {
   "cell_type": "markdown",
   "metadata": {},
   "source": [
    "Take every .shp file in the -i directory and rasterizes it into the -o direcory and adjusts the naming. \n"
   ]
  },
  {
   "cell_type": "code",
   "execution_count": 4,
   "metadata": {},
   "outputs": [
    {
     "name": "stdout",
     "output_type": "stream",
     "text": [
      "Linking to GEOS 3.10.2, GDAL 3.4.1, PROJ 8.2.1; sf_use_s2() is TRUE\n",
      "^C\n",
      "\n",
      "Execution halted\n"
     ]
    }
   ],
   "source": [
    "!Rscript ../scripts/rasterize_ratings.R -i $bild_vector_dir -o $bild_raster_dir"
   ]
  },
  {
   "cell_type": "code",
   "execution_count": null,
   "metadata": {},
   "outputs": [
    {
     "name": "stdout",
     "output_type": "stream",
     "text": [
      "This is the rural_beauty module\n"
     ]
    }
   ],
   "source": [
    "import json\n",
    "import rasterio\n",
    "import numpy as np\n",
    "from shapely.geometry import Point, mapping\n",
    "\n",
    "# find the low valued points, as they are underrepresented \n",
    "\n",
    "from rural_beauty.config import beauty_raster, unique_raster, diverse_raster\n",
    "\n",
    "\n",
    "def save_ugly(input_raster_path):\n",
    "\n",
    "    output_points_path =  input_raster_path.with_name(f\"lowvalue_{input_raster_path.stem}.geojson\")\n",
    "    # Open the raster and find points where data == 1\n",
    "    with rasterio.open(input_raster_path) as src:\n",
    "        data = src.read(1)\n",
    "        transform = src.transform\n",
    "        rows, cols = np.where(data == 1)\n",
    "        coordinates = [rasterio.transform.xy(transform, row, col) for row, col in zip(rows, cols)]\n",
    "\n",
    "    # Create GeoJSON Feature Collection\n",
    "    features = []\n",
    "    for x, y in coordinates:\n",
    "        point = Point(x, y)\n",
    "        features.append({\n",
    "            \"type\": \"Feature\",\n",
    "            \"geometry\": mapping(point),\n",
    "            \"properties\": {}\n",
    "        })\n",
    "\n",
    "    geojson = {\n",
    "        \"type\": \"FeatureCollection\",\n",
    "        \"features\": features\n",
    "    }\n",
    "\n",
    "    with open(output_points_path, \"w\") as f:\n",
    "        json.dump(geojson, f, indent=2)\n",
    "\n",
    "\n",
    "save_ugly(beauty_raster)\n",
    "save_ugly(unique_raster)\n",
    "save_ugly(diverse_raster)\n",
    "\n"
   ]
  },
  {
   "cell_type": "markdown",
   "metadata": {},
   "source": [
    "# UK Scenic data"
   ]
  },
  {
   "cell_type": "code",
   "execution_count": 3,
   "metadata": {},
   "outputs": [
    {
     "name": "stdout",
     "output_type": "stream",
     "text": [
      "   ID      Lat      Lon  Average  Variance              Votes  \\\n",
      "0   1  51.7026 -2.20985   4.1111    1.8765  4,5,3,5,1,4,4,5,6   \n",
      "1   2  51.7026 -2.19538   4.0000    0.5000    4,4,3,5,4,3,5,4   \n",
      "2   3  51.7116 -2.18094   4.2222    2.1728  5,4,6,5,3,4,1,4,6   \n",
      "3   4  53.3110 -2.51786   3.8000    7.7600          2,4,1,9,3   \n",
      "4   5  53.3021 -2.50274   4.1667    3.4722        8,4,2,4,3,4   \n",
      "\n",
      "                          Geograph URI                          geometry  \n",
      "0   http://www.geograph.org.uk/photo/7  POINT (31726519.445 5787681.796)  \n",
      "1   http://www.geograph.org.uk/photo/8  POINT (31727514.781 5787527.082)  \n",
      "2  http://www.geograph.org.uk/photo/11  POINT (31728662.641 5788369.252)  \n",
      "3  http://www.geograph.org.uk/photo/20  POINT (31734104.502 5968958.066)  \n",
      "4  http://www.geograph.org.uk/photo/22  POINT (31734945.288 5967810.331)  \n"
     ]
    }
   ],
   "source": [
    "from rural_beauty.config import UK_scenic_raw, UK_scenic_points\n",
    "\n",
    "import pandas as pd\n",
    "import geopandas as gpd\n",
    "from shapely import Point\n",
    "\n",
    "# Load the TSV file into a DataFrame\n",
    "df = pd.read_csv(UK_scenic_raw, sep='\\t')\n",
    "\n",
    "# Create a geometry column using Lat and Lon for points\n",
    "df['geometry'] = df.apply(lambda row: Point(row['Lon'], row['Lat']), axis=1)\n",
    "\n",
    "# Convert the DataFrame to a GeoDataFrame\n",
    "gdf = gpd.GeoDataFrame(df, geometry='geometry')\n",
    "\n",
    "# Set a Coordinate Reference System (CRS) if needed (e.g., WGS84)\n",
    "gdf.set_crs(\"EPSG:4326\", inplace=True)\n",
    "\n",
    "# transform it to 4346 so we can use meters based grids. \n",
    "gdf.to_crs(\"EPSG:4647\", inplace=True)\n",
    "\n",
    "# Display the GeoDataFrame\n",
    "print(gdf.head())"
   ]
  },
  {
   "cell_type": "code",
   "execution_count": 4,
   "metadata": {},
   "outputs": [],
   "source": [
    "# write to disc\n",
    "gdf.to_file(UK_scenic_points)"
   ]
  },
  {
   "cell_type": "code",
   "execution_count": 6,
   "metadata": {},
   "outputs": [],
   "source": [
    "import numpy as np\n",
    "import pandas as pd\n",
    "import geopandas as gpd\n",
    "from scipy.spatial import cKDTree\n",
    "from rasterio.transform import from_origin\n",
    "import rasterio\n",
    "from rural_beauty.config import UK_scenic_raster, NUTS_UK\n",
    "\n",
    "# Define IDW function\n",
    "def idw_interpolation(points, values, xi, yi, power=2):\n",
    "    tree = cKDTree(points)\n",
    "    dist, idx = tree.query(np.array([xi.ravel(), yi.ravel()]).T, k=5)  # Use the 5 nearest neighbors\n",
    "    weights = 1 / dist**power\n",
    "    weights[dist == 0] = 0  # Avoid division by zero for exact points\n",
    "    z = np.sum(weights * values[idx], axis=1) / np.sum(weights, axis=1)\n",
    "    return z.reshape(xi.shape)\n",
    "\n",
    "# Load point data with values\n",
    "points = np.array([(x, y) for x, y in zip(gdf.geometry.x, gdf.geometry.y)])\n",
    "values = gdf['Average'].to_numpy()  # Replace with your actual column\n",
    "\n",
    "# Define the raster grid with desired extent and resolution\n",
    "minx, miny, maxx, maxy = gdf.total_bounds\n",
    "resolution = 1000  # 1 km resolution\n",
    "x_coords = np.arange(minx, maxx, resolution)\n",
    "y_coords = np.arange(miny, maxy, resolution)\n",
    "xi, yi = np.meshgrid(x_coords, y_coords)\n",
    "\n",
    "# Interpolate values using IDW\n",
    "interpolated_values = idw_interpolation(points, values, xi, yi)\n",
    "\n",
    "# mask values outside the UK\n",
    "from rasterio.features import geometry_mask\n",
    "\n",
    "gdf_boundary = gpd.read_file(NUTS_UK)\n",
    "# Create the mask using geometries instead of shapes\n",
    "transform = from_origin(minx, maxy, resolution, resolution)\n",
    "mask = geometry_mask(\n",
    "    geometries=gdf_boundary.geometry,  # Note: 'geometries' is used here instead of 'shapes'\n",
    "    out_shape=xi.shape,\n",
    "    transform=transform,\n",
    "    invert=True  # Set cells inside geometries to True, outside to False\n",
    ")\n",
    "\n",
    "\n",
    "flipped_values = np.flipud(interpolated_values)\n",
    "\n",
    "nodata_value = -99\n",
    "masked_values = np.where(mask, flipped_values, nodata_value)\n",
    "\n",
    "\n",
    "\n",
    "# Write the interpolated raster to a GeoTIFF file\n",
    "transform = from_origin(minx, maxy, resolution, resolution)\n",
    "with rasterio.open(\n",
    "    UK_scenic_raster,\n",
    "    \"w\",\n",
    "    driver=\"GTiff\",\n",
    "    height=interpolated_values.shape[0],\n",
    "    width=interpolated_values.shape[1],\n",
    "    count=1,\n",
    "    nodata = -99,\n",
    "    dtype='float32',\n",
    "    crs=gdf.crs,\n",
    "    transform=transform\n",
    ") as dst:\n",
    "    dst.write(masked_values.astype('float32'), 1)\n"
   ]
  },
  {
   "cell_type": "markdown",
   "metadata": {},
   "source": [
    "# DEM\n",
    "\n",
    "Take the digital elevation model and calculate the range of elevation in the 1x1 km grid. "
   ]
  },
  {
   "cell_type": "code",
   "execution_count": 2,
   "metadata": {},
   "outputs": [
    {
     "name": "stdout",
     "output_type": "stream",
     "text": [
      "This is the rural_beauty module\n"
     ]
    }
   ],
   "source": [
    "# import paths from config.py\n",
    "from rural_beauty.config import DEM_EU, DEM_EU_range, DEM_EU_range_scaled\n",
    "\n",
    "# pass them to the OS\n",
    "os.environ['DEM_EU'] = str(DEM_EU)\n",
    "os.environ['DEM_range'] = str(DEM_EU_range)\n",
    "os.environ['DEM_range_scaled'] = str(DEM_EU_range_scaled)"
   ]
  },
  {
   "cell_type": "code",
   "execution_count": 9,
   "metadata": {},
   "outputs": [
    {
     "name": "stdout",
     "output_type": "stream",
     "text": [
      "/h/u145/hofer/MyDocuments/Granular/beauty/data/processed/dem/EU_DEM_EU_max.tif already exists. Skipping generation.\n",
      "/h/u145/hofer/MyDocuments/Granular/beauty/data/processed/dem/EU_DEM_EU_min.tif already exists. Skipping generation.\n",
      "/h/u145/hofer/MyDocuments/Granular/beauty/data/processed/dem/DEM_EU_range.tif already exists. Skipping generation.\n",
      "Maximum Range: 1869.229\n",
      "Generating scaled (0,1) output to /h/u145/hofer/MyDocuments/Granular/beauty/data/cleaned/dem/DEM_EU_range_scaled.tif\n",
      "Input file size is 6566, 4060\n",
      "0...10...20...30...40...50...60...70...80...90...100 - done.\n",
      "Process completed. The final output is normalized between 0 and 1 at /h/u145/hofer/MyDocuments/Granular/beauty/data/cleaned/dem/DEM_EU_range_scaled.tif\n"
     ]
    }
   ],
   "source": [
    "!../scripts/process_dem_data_minmax_EU.sh $DEM_EU $DEM_range $DEM_range_scaled"
   ]
  },
  {
   "cell_type": "markdown",
   "metadata": {},
   "source": [
    "# Process the OSM data. \n",
    "\n",
    "We downloaded the whole osm data from geofabrik on July 3rd from:\n",
    "\n",
    "https://download.geofabrik.de/europe-latest.osm.pbf\n",
    "\n",
    "https://download.geofabrik.de/germany-latest.osm.pbf\n"
   ]
  },
  {
   "cell_type": "code",
   "execution_count": 56,
   "metadata": {},
   "outputs": [],
   "source": [
    "# import paths from config.py\n",
    "from rural_beauty.config import OSM_full_EU\n",
    "from rural_beauty.config import powerlines_EU_vector, powerlines_EU_raster, powerlines_EU_raster_scaled\n",
    "from rural_beauty.config import streets_EU_vector, streets_EU_raster, streets_EU_raster_scaled\n",
    "from rural_beauty.config import windpower_EU_vector, windpower_EU_raster, windpower_EU_raster_scaled\n",
    "\n",
    "import os\n",
    "# pass them to the OS\n",
    "os.environ['powerlines_vector'] = str(powerlines_EU_vector)\n",
    "os.environ['powerlines_raster'] = str(powerlines_EU_raster)\n",
    "os.environ['powerlines_raster_scaled'] = str(powerlines_EU_raster_scaled)\n",
    "\n",
    "os.environ['streets_vector'] = str(streets_EU_vector)\n",
    "os.environ['streets_raster'] = str(streets_EU_raster)\n",
    "os.environ['streets_raster_scaled'] = str(streets_EU_raster_scaled)\n",
    "\n",
    "os.environ['windpower_vector'] = str(windpower_EU_vector)\n",
    "os.environ['windpower_raster'] = str(windpower_EU_raster)\n",
    "os.environ['windpower_raster_scaled'] = str(windpower_EU_raster_scaled)"
   ]
  },
  {
   "cell_type": "markdown",
   "metadata": {},
   "source": [
    "Subset the big .pbf file to windpower, streets, and powerlines"
   ]
  },
  {
   "cell_type": "code",
   "execution_count": null,
   "metadata": {},
   "outputs": [],
   "source": [
    "!../scripts/osm_extract_streets.sh    $OSM_full_EU $streets_vector\n",
    "!../scripts/osm_extract_powerlines.sh $OSM_full_EU $powerlines_vector \n",
    "!../scripts/osm_extract_windpower.sh  $OSM_full_EU $windpower_vector"
   ]
  },
  {
   "cell_type": "code",
   "execution_count": 58,
   "metadata": {},
   "outputs": [
    {
     "name": "stdout",
     "output_type": "stream",
     "text": [
      "/h/u145/hofer/MyDocuments/Granular/beauty/data/cleaned/osm/freq_scaled_windpowerplants_EU_4647.tif\n"
     ]
    }
   ],
   "source": [
    "!echo $windpower_EU_raster_scaled"
   ]
  },
  {
   "cell_type": "code",
   "execution_count": null,
   "metadata": {},
   "outputs": [
    {
     "name": "stdout",
     "output_type": "stream",
     "text": [
      "Usage: ../scripts/rasterize_OSM_point_geom_EU.sh <input_vector_data> <amounts_raster> <output_raster>\n",
      "../scripts/rasterize_OSM_point_geom_EU.sh\n",
      "/h/u145/hofer/MyDocuments/Granular/beauty/data/processed/osm/windpowerplants_EU_4647.geojson\n",
      "/h/u145/hofer/MyDocuments/Granular/beauty/data/processed/osm/freq_windpowerplants_EU_4647.tif\n",
      "\n"
     ]
    }
   ],
   "source": [
    "!Rscript ../scripts/rasterize_OSM_line_geom_EU.R $powerlines_vector $powerlines_raster $powerlines_raster_scaled\n",
    "!Rscript ../scripts/rasterize_OSM_line_geom_EU.R $streets_vector    $streets_raster    $streets_raster_scaled\n"
   ]
  },
  {
   "cell_type": "code",
   "execution_count": 69,
   "metadata": {},
   "outputs": [
    {
     "name": "stdout",
     "output_type": "stream",
     "text": [
      "/h/u145/hofer/MyDocuments/Granular/beauty/data/processed/osm/freq_windpowerplants_EU_4647.tif already exists. Skipping generation.\n",
      "Maximum Range: 71.000\n",
      "Scaling OSM raster to 0,1\n",
      "Input file size is 6893, 5218\n",
      "0...10...20...30...40...50...60...70...80...90...100 - done.\n"
     ]
    },
    {
     "data": {
      "text/plain": [
       "0"
      ]
     },
     "execution_count": 69,
     "metadata": {},
     "output_type": "execute_result"
    }
   ],
   "source": [
    "# This lien below didn't work. The last argument never gets correctly passed to the function. Unsure why. \n",
    "# !../scripts/rasterize_OSM_point_geom_EU.sh $windpower_vector $windpower_raster $windpower_EU_raster_scaled\n",
    "\n",
    "command = f\"../scripts/rasterize_OSM_point_geom_EU.sh {windpower_EU_vector} {windpower_EU_raster} {windpower_EU_raster_scaled}\"\n",
    "\n",
    "# Execute the command\n",
    "os.system(command)"
   ]
  },
  {
   "cell_type": "markdown",
   "metadata": {},
   "source": [
    "# Corine Landcover (CLC)"
   ]
  },
  {
   "cell_type": "code",
   "execution_count": 1,
   "metadata": {},
   "outputs": [
    {
     "name": "stdout",
     "output_type": "stream",
     "text": [
      "This is the rural_beauty module\n"
     ]
    },
    {
     "data": {
      "text/plain": [
       "['code_acker.tif',\n",
       " 'code_heide.tif',\n",
       " 'code_natgru.tif',\n",
       " 'code_noveg.tif',\n",
       " 'code_obst.tif',\n",
       " 'code_seemee.tif',\n",
       " 'code_spfr.tif',\n",
       " 'code_stoer.tif',\n",
       " 'code_wald.tif']"
      ]
     },
     "execution_count": 1,
     "metadata": {},
     "output_type": "execute_result"
    }
   ],
   "source": [
    "# import paths from config.py\n",
    "from rural_beauty.config import CLC_EU, CLC_boolean_layers_dir, CLC_coverage_EU_dir\n",
    "from rural_beauty import split_CLC_layers\n",
    "\n",
    "split_CLC_layers.main(CLC_EU, CLC_boolean_layers_dir)\n",
    "\n",
    "os.listdir(CLC_boolean_layers_dir)\n"
   ]
  },
  {
   "cell_type": "code",
   "execution_count": 2,
   "metadata": {},
   "outputs": [],
   "source": [
    "# pass the coverage output folder and the boolean layers folder to the OS for the next step\n",
    "os.environ['CLC_boolean_layers_dir'] = str(CLC_boolean_layers_dir)\n",
    "os.environ['CLC_coverage_dir'] = str(CLC_coverage_EU_dir)\n"
   ]
  },
  {
   "cell_type": "code",
   "execution_count": 4,
   "metadata": {},
   "outputs": [
    {
     "name": "stdout",
     "output_type": "stream",
     "text": [
      "File /media/sf_Granular/beauty/data/cleaned/clc/layer_coverage_DE/code_acker.tif already exists, skipping...\n",
      "File /media/sf_Granular/beauty/data/cleaned/clc/layer_coverage_DE/code_heide.tif already exists, skipping...\n",
      "File /media/sf_Granular/beauty/data/cleaned/clc/layer_coverage_DE/code_natgru.tif already exists, skipping...\n",
      "File /media/sf_Granular/beauty/data/cleaned/clc/layer_coverage_DE/code_noveg.tif already exists, skipping...\n",
      "File /media/sf_Granular/beauty/data/cleaned/clc/layer_coverage_DE/code_obst.tif already exists, skipping...\n",
      "File /media/sf_Granular/beauty/data/cleaned/clc/layer_coverage_DE/code_seemee.tif already exists, skipping...\n",
      "File /media/sf_Granular/beauty/data/cleaned/clc/layer_coverage_DE/code_spfr.tif already exists, skipping...\n",
      "File /media/sf_Granular/beauty/data/cleaned/clc/layer_coverage_DE/code_stoer.tif already exists, skipping...\n",
      "File /media/sf_Granular/beauty/data/cleaned/clc/layer_coverage_DE/code_wald.tif already exists, skipping...\n",
      "Resampling complete.\n"
     ]
    }
   ],
   "source": [
    "!../scripts/resample_CLC_DE.sh $CLC_boolean_layers_dir $CLC_coverage_EU_dir"
   ]
  },
  {
   "cell_type": "markdown",
   "metadata": {},
   "source": [
    "# Hemerobieindex\n"
   ]
  },
  {
   "cell_type": "code",
   "execution_count": 3,
   "metadata": {},
   "outputs": [],
   "source": [
    "from rural_beauty.config import heme2012_DE, heme2012_DE_repojected\n",
    "\n",
    "os.environ['heme2012_DE'] = str(heme2012_DE)\n",
    "os.environ['heme2012_DE_repojected'] = str(heme2012_DE_repojected)"
   ]
  },
  {
   "cell_type": "code",
   "execution_count": 6,
   "metadata": {},
   "outputs": [
    {
     "name": "stdout",
     "output_type": "stream",
     "text": [
      "Input: /media/sf_Granular/beauty/data/raw/hemerobie_IOER/heme2012.tif\n",
      "Output: /media/sf_Granular/beauty/data/cleaned/hemerobie_IOER/heme2012.tif\n"
     ]
    },
    {
     "name": "stdout",
     "output_type": "stream",
     "text": [
      "Creating output file that is 642P x 867L.\n",
      "Processing /media/sf_Granular/beauty/data/raw/hemerobie_IOER/heme2012.tif [1/1] : 0Using internal nodata values (e.g. -9998) for image /media/sf_Granular/beauty/data/raw/hemerobie_IOER/heme2012.tif.\n",
      "Copying nodata values from source /media/sf_Granular/beauty/data/raw/hemerobie_IOER/heme2012.tif to destination /media/sf_Granular/beauty/data/cleaned/hemerobie_IOER/heme2012.tif.\n",
      "...10...20...30...40...50...60...70...80...90...100 - done.\n"
     ]
    }
   ],
   "source": [
    "%%bash \n",
    "echo \"Input: $heme2012_DE\"\n",
    "echo \"Output: $heme2012_DE_repojected\"\n",
    "\n",
    "../scripts/reproject_heme.sh $heme2012_DE $heme2012_DE_reprojected"
   ]
  },
  {
   "cell_type": "markdown",
   "metadata": {},
   "source": [
    "# Protected Areas"
   ]
  },
  {
   "cell_type": "code",
   "execution_count": null,
   "metadata": {},
   "outputs": [
    {
     "name": "stdout",
     "output_type": "stream",
     "text": [
      "This is the rural_beauty module\n"
     ]
    }
   ],
   "source": [
    "from rural_beauty.config import protected0, protected1, protected2, protected_EU, protected_raster, protected_raster_scaled\n",
    "\n",
    "os.environ['protected0'] = str(protected0)\n",
    "os.environ['protected1'] = str(protected1)\n",
    "os.environ['protected2'] = str(protected2)\n",
    "\n",
    "# intermediary stack of EU based polygons of protected areas\n",
    "os.environ['protected_EU'] = str(protected_EU)\n",
    "\n",
    "# raster of 'protected area within px'\n",
    "os.environ['protected_raster'] = str(protected_raster)\n",
    "\n",
    "# scaled to 0/1\n",
    "os.environ['protected_raster_scaled'] = str(protected_raster_scaled)"
   ]
  },
  {
   "cell_type": "code",
   "execution_count": null,
   "metadata": {},
   "outputs": [],
   "source": [
    "%%bash \n",
    "echo \"Output: $protected_EU\"\n",
    "\n",
    "../scripts/WDPA_subset_reproject.sh $protected0 $protected1 $protected2 $protected_EU"
   ]
  },
  {
   "cell_type": "code",
   "execution_count": null,
   "metadata": {},
   "outputs": [
    {
     "name": "stdout",
     "output_type": "stream",
     "text": [
      "Rasterizing... Output: \n"
     ]
    },
    {
     "name": "stderr",
     "output_type": "stream",
     "text": [
      "terra 1.7.83\n",
      "Error: args: <input_vector> <intermediary_area_raster> <scaled_area_raster>\n",
      "Execution halted\n"
     ]
    },
    {
     "ename": "CalledProcessError",
     "evalue": "Command 'b'echo \"Rasterizing... Output: $protected_raster\"\\n\\nRscript ../scripts/rasterize_protected_poly_geom_EU.R $protected_EU $protected_raster\\n'' returned non-zero exit status 1.",
     "output_type": "error",
     "traceback": [
      "\u001b[0;31m---------------------------------------------------------------------------\u001b[0m",
      "\u001b[0;31mCalledProcessError\u001b[0m                        Traceback (most recent call last)",
      "Cell \u001b[0;32mIn[71], line 1\u001b[0m\n\u001b[0;32m----> 1\u001b[0m \u001b[43mget_ipython\u001b[49m\u001b[43m(\u001b[49m\u001b[43m)\u001b[49m\u001b[38;5;241;43m.\u001b[39;49m\u001b[43mrun_cell_magic\u001b[49m\u001b[43m(\u001b[49m\u001b[38;5;124;43m'\u001b[39;49m\u001b[38;5;124;43mbash\u001b[39;49m\u001b[38;5;124;43m'\u001b[39;49m\u001b[43m,\u001b[49m\u001b[43m \u001b[49m\u001b[38;5;124;43m'\u001b[39;49m\u001b[38;5;124;43m'\u001b[39;49m\u001b[43m,\u001b[49m\u001b[43m \u001b[49m\u001b[38;5;124;43m'\u001b[39;49m\u001b[38;5;124;43mecho \u001b[39;49m\u001b[38;5;124;43m\"\u001b[39;49m\u001b[38;5;124;43mRasterizing... Output: $protected_raster\u001b[39;49m\u001b[38;5;124;43m\"\u001b[39;49m\u001b[38;5;130;43;01m\\n\u001b[39;49;00m\u001b[38;5;130;43;01m\\n\u001b[39;49;00m\u001b[38;5;124;43mRscript ../scripts/rasterize_protected_poly_geom_EU.R $protected_EU $protected_raster\u001b[39;49m\u001b[38;5;130;43;01m\\n\u001b[39;49;00m\u001b[38;5;124;43m'\u001b[39;49m\u001b[43m)\u001b[49m\n",
      "File \u001b[0;32m~/MyDocuments/Granular/beauty/.venv/lib/python3.10/site-packages/IPython/core/interactiveshell.py:2541\u001b[0m, in \u001b[0;36mInteractiveShell.run_cell_magic\u001b[0;34m(self, magic_name, line, cell)\u001b[0m\n\u001b[1;32m   2539\u001b[0m \u001b[38;5;28;01mwith\u001b[39;00m \u001b[38;5;28mself\u001b[39m\u001b[38;5;241m.\u001b[39mbuiltin_trap:\n\u001b[1;32m   2540\u001b[0m     args \u001b[38;5;241m=\u001b[39m (magic_arg_s, cell)\n\u001b[0;32m-> 2541\u001b[0m     result \u001b[38;5;241m=\u001b[39m \u001b[43mfn\u001b[49m\u001b[43m(\u001b[49m\u001b[38;5;241;43m*\u001b[39;49m\u001b[43margs\u001b[49m\u001b[43m,\u001b[49m\u001b[43m \u001b[49m\u001b[38;5;241;43m*\u001b[39;49m\u001b[38;5;241;43m*\u001b[39;49m\u001b[43mkwargs\u001b[49m\u001b[43m)\u001b[49m\n\u001b[1;32m   2543\u001b[0m \u001b[38;5;66;03m# The code below prevents the output from being displayed\u001b[39;00m\n\u001b[1;32m   2544\u001b[0m \u001b[38;5;66;03m# when using magics with decorator @output_can_be_silenced\u001b[39;00m\n\u001b[1;32m   2545\u001b[0m \u001b[38;5;66;03m# when the last Python token in the expression is a ';'.\u001b[39;00m\n\u001b[1;32m   2546\u001b[0m \u001b[38;5;28;01mif\u001b[39;00m \u001b[38;5;28mgetattr\u001b[39m(fn, magic\u001b[38;5;241m.\u001b[39mMAGIC_OUTPUT_CAN_BE_SILENCED, \u001b[38;5;28;01mFalse\u001b[39;00m):\n",
      "File \u001b[0;32m~/MyDocuments/Granular/beauty/.venv/lib/python3.10/site-packages/IPython/core/magics/script.py:155\u001b[0m, in \u001b[0;36mScriptMagics._make_script_magic.<locals>.named_script_magic\u001b[0;34m(line, cell)\u001b[0m\n\u001b[1;32m    153\u001b[0m \u001b[38;5;28;01melse\u001b[39;00m:\n\u001b[1;32m    154\u001b[0m     line \u001b[38;5;241m=\u001b[39m script\n\u001b[0;32m--> 155\u001b[0m \u001b[38;5;28;01mreturn\u001b[39;00m \u001b[38;5;28;43mself\u001b[39;49m\u001b[38;5;241;43m.\u001b[39;49m\u001b[43mshebang\u001b[49m\u001b[43m(\u001b[49m\u001b[43mline\u001b[49m\u001b[43m,\u001b[49m\u001b[43m \u001b[49m\u001b[43mcell\u001b[49m\u001b[43m)\u001b[49m\n",
      "File \u001b[0;32m~/MyDocuments/Granular/beauty/.venv/lib/python3.10/site-packages/IPython/core/magics/script.py:315\u001b[0m, in \u001b[0;36mScriptMagics.shebang\u001b[0;34m(self, line, cell)\u001b[0m\n\u001b[1;32m    310\u001b[0m \u001b[38;5;28;01mif\u001b[39;00m args\u001b[38;5;241m.\u001b[39mraise_error \u001b[38;5;129;01mand\u001b[39;00m p\u001b[38;5;241m.\u001b[39mreturncode \u001b[38;5;241m!=\u001b[39m \u001b[38;5;241m0\u001b[39m:\n\u001b[1;32m    311\u001b[0m     \u001b[38;5;66;03m# If we get here and p.returncode is still None, we must have\u001b[39;00m\n\u001b[1;32m    312\u001b[0m     \u001b[38;5;66;03m# killed it but not yet seen its return code. We don't wait for it,\u001b[39;00m\n\u001b[1;32m    313\u001b[0m     \u001b[38;5;66;03m# in case it's stuck in uninterruptible sleep. -9 = SIGKILL\u001b[39;00m\n\u001b[1;32m    314\u001b[0m     rc \u001b[38;5;241m=\u001b[39m p\u001b[38;5;241m.\u001b[39mreturncode \u001b[38;5;129;01mor\u001b[39;00m \u001b[38;5;241m-\u001b[39m\u001b[38;5;241m9\u001b[39m\n\u001b[0;32m--> 315\u001b[0m     \u001b[38;5;28;01mraise\u001b[39;00m CalledProcessError(rc, cell)\n",
      "\u001b[0;31mCalledProcessError\u001b[0m: Command 'b'echo \"Rasterizing... Output: $protected_raster\"\\n\\nRscript ../scripts/rasterize_protected_poly_geom_EU.R $protected_EU $protected_raster\\n'' returned non-zero exit status 1."
     ]
    }
   ],
   "source": [
    "%%bash\n",
    "echo \"Rasterizing... Output: $protected_raster\"\n",
    "\n",
    "Rscript ../scripts/rasterize_protected_poly_geom_EU.R $protected_EU $protected_raster $protected_raster_scaled"
   ]
  }
 ],
 "metadata": {
  "kernelspec": {
   "display_name": ".venv",
   "language": "python",
   "name": "python3"
  },
  "language_info": {
   "codemirror_mode": {
    "name": "ipython",
    "version": 3
   },
   "file_extension": ".py",
   "mimetype": "text/x-python",
   "name": "python",
   "nbconvert_exporter": "python",
   "pygments_lexer": "ipython3",
   "version": "3.10.12"
  }
 },
 "nbformat": 4,
 "nbformat_minor": 4
}
