{
 "cells": [
  {
   "cell_type": "code",
   "execution_count": 8,
   "metadata": {},
   "outputs": [],
   "source": [
    "# import subprocess\n",
    "import os\n"
   ]
  },
  {
   "cell_type": "markdown",
   "metadata": {},
   "source": [
    "This notebook prepares the data for the rural beauty model, by reprojecting, cropping and or resampling of raw datasets.\n",
    "\n",
    "To do so, it loads paths from the rural_beauty/rural_beauty/config.py. \n",
    "\n",
    "It then either calls python functions from the same module or calls bash and R scripts from the scripts folder. \n",
    "To do the latter, variable are passed to the OS. "
   ]
  },
  {
   "cell_type": "code",
   "execution_count": 9,
   "metadata": {},
   "outputs": [],
   "source": [
    "%load_ext rpy2.ipython"
   ]
  },
  {
   "cell_type": "markdown",
   "metadata": {},
   "source": [
    "# Beauty\n",
    "\n",
    "Transform the beauty shapefiles to raster data.\n"
   ]
  },
  {
   "cell_type": "code",
   "execution_count": 11,
   "metadata": {},
   "outputs": [],
   "source": [
    "# import paths from config.py\n",
    "from rural_beauty.config import bild_vector_dir, bild_raster_dir # load absolute paths as defined in config.py\n",
    "\n",
    "# pass them to the OS\n",
    "os.environ['bild_vector_dir'] = str(bild_vector_dir)\n",
    "os.environ['bild_raster_dir'] = str(bild_raster_dir)\n"
   ]
  },
  {
   "cell_type": "code",
   "execution_count": 14,
   "metadata": {},
   "outputs": [
    {
     "name": "stdout",
     "output_type": "stream",
     "text": [
      "Linking to GEOS 3.11.1, GDAL 3.6.4, PROJ 9.1.1; sf_use_s2() is TRUE\n",
      "terra 1.7.78\n"
     ]
    }
   ],
   "source": [
    "!Rscript ../scripts/rasterize_ratings.R -i $bild_vector_dir -o $bild_raster_dir"
   ]
  },
  {
   "cell_type": "markdown",
   "metadata": {},
   "source": [
    "# DEM\n",
    "\n",
    "Take the digital elevation model and calculate the range of elevation in the 1x1 km grid. "
   ]
  },
  {
   "cell_type": "code",
   "execution_count": 28,
   "metadata": {},
   "outputs": [],
   "source": [
    "# import paths from config.py\n",
    "from rural_beauty.config import DEM_EU, DEM_DE_range\n",
    "\n",
    "# pass them to the OS\n",
    "os.environ['DEM_EU'] = str(DEM_EU)\n",
    "os.environ['DEM_DE_range'] = str(DEM_DE_range)"
   ]
  },
  {
   "cell_type": "code",
   "execution_count": 22,
   "metadata": {},
   "outputs": [
    {
     "name": "stdout",
     "output_type": "stream",
     "text": [
      "Creating output file that is 642P x 867L.\n",
      "Processing /media/sf_Granular/beauty/data/raw/dem/EU_DEM_EU.tif [1/1] : 0Using internal nodata values (e.g. -9999) for image /media/sf_Granular/beauty/data/raw/dem/EU_DEM_EU.tif.\n",
      "Copying nodata values from source /media/sf_Granular/beauty/data/raw/dem/EU_DEM_EU.tif to destination EU_DEM_DE_max.tif.\n",
      "...10...20...30...40...50...60^C\n"
     ]
    }
   ],
   "source": [
    "!../scripts/process_dem_data_minmax.sh $DEM_EU $DEM_DE_range"
   ]
  },
  {
   "cell_type": "code",
   "execution_count": null,
   "metadata": {},
   "outputs": [],
   "source": [
    "# TODO clean up __deletable_ min and max in case the previous step failed."
   ]
  },
  {
   "cell_type": "markdown",
   "metadata": {},
   "source": [
    "# Process the OSM data. \n",
    "\n",
    "We downloaded the whole osm data from geofabrik on July 3rd from:\n",
    "\n",
    "https://download.geofabrik.de/europe-latest.osm.pbf\n",
    "\n",
    "https://download.geofabrik.de/germany-latest.osm.pbf\n"
   ]
  },
  {
   "cell_type": "code",
   "execution_count": 6,
   "metadata": {},
   "outputs": [],
   "source": [
    "# import paths from config.py\n",
    "from rural_beauty.config import OSM_full_DE\n",
    "from rural_beauty.config import powerlines_DE_vector, powerlines_DE_raster\n",
    "from rural_beauty.config import streets_DE_vector, streets_DE_raster\n",
    "from rural_beauty.config import windpower_DE_vector, windpower_DE_raster\n",
    "\n",
    "import os\n",
    "# pass them to the OS\n",
    "os.environ['powerlines_DE_vector'] = str(powerlines_DE_vector)\n",
    "os.environ['powerlines_DE_raster'] = str(powerlines_DE_raster)\n",
    "os.environ['streets_DE_vector'] = str(streets_DE_vector)\n",
    "os.environ['streets_DE_raster'] = str(streets_DE_raster)\n",
    "os.environ['windpower_DE_vector'] = str(windpower_DE_vector)\n",
    "os.environ['windpower_DE_raster'] = str(windpower_DE_raster)"
   ]
  },
  {
   "cell_type": "markdown",
   "metadata": {},
   "source": [
    "Subset the big .pbf file to windpower, streets, and powerlines"
   ]
  },
  {
   "cell_type": "code",
   "execution_count": null,
   "metadata": {},
   "outputs": [],
   "source": [
    "!../scripts/osm_extract_streets.sh $OSM_full_DE $streets_DE_vector\n",
    "!../scripts/osm_extract_powerlines.sh $OSM_full_DE $powerlines_DE_vector\n",
    "!../scripts/osm_extract_windpower.sh $OSM_full_DE $windpower_DE_vector"
   ]
  },
  {
   "cell_type": "code",
   "execution_count": 2,
   "metadata": {},
   "outputs": [
    {
     "name": "stdout",
     "output_type": "stream",
     "text": [
      "terra 1.7.78\n",
      "Rasterization complete. Output saved to: /media/sf_Granular/beauty/data/processed/osm/len_powerlines_DE_4647.tif \n",
      "terra 1.7.78\n",
      "Error: [writeRaster] cannot guess file type from filename\n",
      "Execution halted\n",
      "0...10...20...30...40...50...60...70...80...90...100 - done.\n",
      "Rasterization complete. Output saved to: /media/sf_Granular/beauty/data/processed/osm/freq_windpowerplants_DE_4647.tif\n"
     ]
    }
   ],
   "source": [
    "!../scripts/rasterize_OSM_line_geom.R $powerlines_DE_vector $powerlines_DE_raster\n",
    "!../scripts/rasterize_OSM_line_geom.R $streets_DE_vector $streets_DE_vector\n",
    "!../scripts/rasterize_OSM_point_geom.sh $windpower_DE_vector $windpower_DE_raster"
   ]
  },
  {
   "cell_type": "markdown",
   "metadata": {},
   "source": [
    "# Corine Landcover (CLC)"
   ]
  },
  {
   "cell_type": "code",
   "execution_count": 1,
   "metadata": {},
   "outputs": [
    {
     "name": "stdout",
     "output_type": "stream",
     "text": [
      "This is the rural_beauty module\n"
     ]
    },
    {
     "data": {
      "text/plain": [
       "['code_acker.tif',\n",
       " 'code_heide.tif',\n",
       " 'code_natgru.tif',\n",
       " 'code_noveg.tif',\n",
       " 'code_obst.tif',\n",
       " 'code_seemee.tif',\n",
       " 'code_spfr.tif',\n",
       " 'code_stoer.tif',\n",
       " 'code_wald.tif']"
      ]
     },
     "execution_count": 1,
     "metadata": {},
     "output_type": "execute_result"
    }
   ],
   "source": [
    "# import paths from config.py\n",
    "from rural_beauty.config import CLC_DE, CLC_boolean_layers_DE_dir, CLC_coverage_DE_dir\n",
    "from rural_beauty import split_CLC_layers\n",
    "\n",
    "split_CLC_layers.main(CLC_DE, CLC_boolean_layers_DE_dir)\n",
    "\n",
    "os.listdir(CLC_boolean_layers_DE_dir)\n"
   ]
  },
  {
   "cell_type": "code",
   "execution_count": 2,
   "metadata": {},
   "outputs": [],
   "source": [
    "# pass the coverage output folder and the boolean layers folder to the OS for the next step\n",
    "os.environ['CLC_boolean_layers_DE_dir'] = str(CLC_boolean_layers_DE_dir)\n",
    "os.environ['CLC_coverage_DE_dir'] = str(CLC_coverage_DE_dir)\n"
   ]
  },
  {
   "cell_type": "code",
   "execution_count": 4,
   "metadata": {},
   "outputs": [
    {
     "name": "stdout",
     "output_type": "stream",
     "text": [
      "File /media/sf_Granular/beauty/data/cleaned/clc/layer_coverage_DE/code_acker.tif already exists, skipping...\n",
      "File /media/sf_Granular/beauty/data/cleaned/clc/layer_coverage_DE/code_heide.tif already exists, skipping...\n",
      "File /media/sf_Granular/beauty/data/cleaned/clc/layer_coverage_DE/code_natgru.tif already exists, skipping...\n",
      "File /media/sf_Granular/beauty/data/cleaned/clc/layer_coverage_DE/code_noveg.tif already exists, skipping...\n",
      "File /media/sf_Granular/beauty/data/cleaned/clc/layer_coverage_DE/code_obst.tif already exists, skipping...\n",
      "File /media/sf_Granular/beauty/data/cleaned/clc/layer_coverage_DE/code_seemee.tif already exists, skipping...\n",
      "File /media/sf_Granular/beauty/data/cleaned/clc/layer_coverage_DE/code_spfr.tif already exists, skipping...\n",
      "File /media/sf_Granular/beauty/data/cleaned/clc/layer_coverage_DE/code_stoer.tif already exists, skipping...\n",
      "File /media/sf_Granular/beauty/data/cleaned/clc/layer_coverage_DE/code_wald.tif already exists, skipping...\n",
      "Resampling complete.\n"
     ]
    }
   ],
   "source": [
    "!../scripts/resample_CLC_DE.sh $CLC_boolean_layers_DE_dir $CLC_coverage_DE_dir"
   ]
  },
  {
   "cell_type": "markdown",
   "metadata": {},
   "source": [
    "# Hemerobieindex\n"
   ]
  },
  {
   "cell_type": "code",
   "execution_count": 2,
   "metadata": {},
   "outputs": [],
   "source": [
    "from rural_beauty.config import heme2012_DE, heme2012_DE_repojected\n",
    "\n",
    "os.environ['heme2012_DE'] = str(heme2012_DE)\n",
    "os.environ['heme2012_DE_repojected'] = str(heme2012_DE_repojected)"
   ]
  },
  {
   "cell_type": "code",
   "execution_count": 6,
   "metadata": {},
   "outputs": [
    {
     "name": "stdout",
     "output_type": "stream",
     "text": [
      "Input: /media/sf_Granular/beauty/data/raw/hemerobie_IOER/heme2012.tif\n",
      "Output: /media/sf_Granular/beauty/data/cleaned/hemerobie_IOER/heme2012.tif\n"
     ]
    },
    {
     "name": "stdout",
     "output_type": "stream",
     "text": [
      "Creating output file that is 642P x 867L.\n",
      "Processing /media/sf_Granular/beauty/data/raw/hemerobie_IOER/heme2012.tif [1/1] : 0Using internal nodata values (e.g. -9998) for image /media/sf_Granular/beauty/data/raw/hemerobie_IOER/heme2012.tif.\n",
      "Copying nodata values from source /media/sf_Granular/beauty/data/raw/hemerobie_IOER/heme2012.tif to destination /media/sf_Granular/beauty/data/cleaned/hemerobie_IOER/heme2012.tif.\n",
      "...10...20...30...40...50...60...70...80...90...100 - done.\n"
     ]
    }
   ],
   "source": [
    "%%bash \n",
    "echo \"Input: $heme2012_DE\"\n",
    "echo \"Output: $heme2012_DE_repojected\"\n",
    "\n",
    "../scripts/reproject_heme.sh $heme2012_DE $heme2012_DE_reprojected"
   ]
  }
 ],
 "metadata": {
  "kernelspec": {
   "display_name": "Python 3 (ipykernel)",
   "language": "python",
   "name": "python3"
  },
  "language_info": {
   "codemirror_mode": {
    "name": "ipython",
    "version": 3
   },
   "file_extension": ".py",
   "mimetype": "text/x-python",
   "name": "python",
   "nbconvert_exporter": "python",
   "pygments_lexer": "ipython3",
   "version": "3.10.12"
  }
 },
 "nbformat": 4,
 "nbformat_minor": 4
}
