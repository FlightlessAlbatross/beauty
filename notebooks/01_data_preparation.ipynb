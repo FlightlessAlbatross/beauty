{
 "cells": [
  {
   "cell_type": "code",
   "execution_count": 1,
   "metadata": {},
   "outputs": [],
   "source": [
    "# import subprocess\n",
    "import os\n"
   ]
  },
  {
   "cell_type": "markdown",
   "metadata": {},
   "source": [
    "This notebook prepares the data for the rural beauty model, by reprojecting, cropping and or resampling of raw datasets.\n",
    "\n",
    "To do so, it loads paths from the rural_beauty/rural_beauty/config.py. \n",
    "\n",
    "It then either calls python functions from the same module or calls bash and R scripts from the scripts folder. \n",
    "To do the latter, variable are passed to the OS. "
   ]
  },
  {
   "cell_type": "code",
   "execution_count": 2,
   "metadata": {},
   "outputs": [],
   "source": [
    "%load_ext rpy2.ipython"
   ]
  },
  {
   "cell_type": "markdown",
   "metadata": {},
   "source": [
    "# Beauty/Uniqueness/Diversity\n",
    "\n",
    "Transform the beauty shapefiles to raster data.\n"
   ]
  },
  {
   "cell_type": "code",
   "execution_count": 3,
   "metadata": {},
   "outputs": [
    {
     "name": "stdout",
     "output_type": "stream",
     "text": [
      "This is the rural_beauty module\n"
     ]
    }
   ],
   "source": [
    "# import paths from config.py\n",
    "from rural_beauty.config import bild_vector_dir, bild_raster_dir # load absolute paths as defined in config.py\n",
    "\n",
    "# pass them to the OS\n",
    "os.environ['bild_vector_dir'] = str(bild_vector_dir)\n",
    "os.environ['bild_raster_dir'] = str(bild_raster_dir)\n"
   ]
  },
  {
   "cell_type": "markdown",
   "metadata": {},
   "source": [
    "Take every .shp file in the -i directory and rasterizes it into the -o direcory and adjusts the naming. \n"
   ]
  },
  {
   "cell_type": "code",
   "execution_count": 4,
   "metadata": {},
   "outputs": [
    {
     "name": "stdout",
     "output_type": "stream",
     "text": [
      "Linking to GEOS 3.10.2, GDAL 3.4.1, PROJ 8.2.1; sf_use_s2() is TRUE\n",
      "terra 1.7.83\n"
     ]
    }
   ],
   "source": [
    "!Rscript ../scripts/rasterize_ratings.R -i $bild_vector_dir -o $bild_raster_dir"
   ]
  },
  {
   "cell_type": "markdown",
   "metadata": {},
   "source": [
    "# DEM\n",
    "\n",
    "Take the digital elevation model and calculate the range of elevation in the 1x1 km grid. "
   ]
  },
  {
   "cell_type": "code",
   "execution_count": 5,
   "metadata": {},
   "outputs": [
    {
     "name": "stdout",
     "output_type": "stream",
     "text": [
      "/h/u145/hofer/MyDocuments/Granular/beauty/notebooks\n"
     ]
    }
   ],
   "source": [
    "!pwd"
   ]
  },
  {
   "cell_type": "code",
   "execution_count": 2,
   "metadata": {},
   "outputs": [
    {
     "name": "stdout",
     "output_type": "stream",
     "text": [
      "This is the rural_beauty module\n"
     ]
    }
   ],
   "source": [
    "# import paths from config.py\n",
    "from rural_beauty.config import DEM_EU, DEM_EU_range, DEM_EU_range_scaled\n",
    "\n",
    "# pass them to the OS\n",
    "os.environ['DEM_EU'] = str(DEM_EU)\n",
    "os.environ['DEM_range'] = str(DEM_EU_range)\n",
    "os.environ['DEM_range_scaled'] = str(DEM_EU_range_scaled)"
   ]
  },
  {
   "cell_type": "code",
   "execution_count": 9,
   "metadata": {},
   "outputs": [
    {
     "name": "stdout",
     "output_type": "stream",
     "text": [
      "/h/u145/hofer/MyDocuments/Granular/beauty/data/processed/dem/EU_DEM_EU_max.tif already exists. Skipping generation.\n",
      "/h/u145/hofer/MyDocuments/Granular/beauty/data/processed/dem/EU_DEM_EU_min.tif already exists. Skipping generation.\n",
      "/h/u145/hofer/MyDocuments/Granular/beauty/data/processed/dem/DEM_EU_range.tif already exists. Skipping generation.\n",
      "Maximum Range: 1869.229\n",
      "Generating scaled (0,1) output to /h/u145/hofer/MyDocuments/Granular/beauty/data/cleaned/dem/DEM_EU_range_scaled.tif\n",
      "Input file size is 6566, 4060\n",
      "0...10...20...30...40...50...60...70...80...90...100 - done.\n",
      "Process completed. The final output is normalized between 0 and 1 at /h/u145/hofer/MyDocuments/Granular/beauty/data/cleaned/dem/DEM_EU_range_scaled.tif\n"
     ]
    }
   ],
   "source": [
    "!../scripts/process_dem_data_minmax_EU.sh $DEM_EU $DEM_range $DEM_range_scaled"
   ]
  },
  {
   "cell_type": "markdown",
   "metadata": {},
   "source": [
    "# Process the OSM data. \n",
    "\n",
    "We downloaded the whole osm data from geofabrik on July 3rd from:\n",
    "\n",
    "https://download.geofabrik.de/europe-latest.osm.pbf\n",
    "\n",
    "https://download.geofabrik.de/germany-latest.osm.pbf\n"
   ]
  },
  {
   "cell_type": "code",
   "execution_count": null,
   "metadata": {},
   "outputs": [],
   "source": [
    "# import paths from config.py\n",
    "from rural_beauty.config import OSM_full_EU\n",
    "from rural_beauty.config import powerlines_EU_vector, powerlines_EU_raster, powerlines_EU_raster_scaled\n",
    "from rural_beauty.config import streets_EU_vector, streets_EU_raster, streets_EU_raster_scaled\n",
    "from rural_beauty.config import windpower_EU_vector, windpower_EU_raster, windpower_EU_raster_scaled\n",
    "\n",
    "import os\n",
    "# pass them to the OS\n",
    "os.environ['powerlines_vector'] = str(powerlines_EU_vector)\n",
    "os.environ['powerlines_raster'] = str(powerlines_EU_raster)\n",
    "os.environ['powerlines_raster_scaled'] = str(powerlines_EU_raster_scaled)\n",
    "\n",
    "os.environ['streets_vector'] = str(streets_EU_vector)\n",
    "os.environ['streets_raster'] = str(streets_EU_raster)\n",
    "os.environ['streets_raster_scaled'] = str(streets_EU_raster_scaled)\n",
    "\n",
    "os.environ['windpower_vector'] = str(windpower_EU_vector)\n",
    "os.environ['windpower_raster'] = str(windpower_EU_raster)\n",
    "os.environ['windpower_raster_scaled'] = str(windpower_EU_raster_scaled)"
   ]
  },
  {
   "cell_type": "markdown",
   "metadata": {},
   "source": [
    "Subset the big .pbf file to windpower, streets, and powerlines"
   ]
  },
  {
   "cell_type": "code",
   "execution_count": null,
   "metadata": {},
   "outputs": [],
   "source": [
    "!../scripts/osm_extract_streets.sh $OSM_full_EU $streets_vector\n",
    "!../scripts/osm_extract_powerlines.sh $OSM_full_EU $powerlines_vector \n",
    "!../scripts/osm_extract_windpower.sh $OSM_full_EU $windpower_vector $windpower_EU_raster_scaled"
   ]
  },
  {
   "cell_type": "code",
   "execution_count": null,
   "metadata": {},
   "outputs": [
    {
     "name": "stdout",
     "output_type": "stream",
     "text": [
      "terra 1.7.78\n",
      "Rasterization complete. Output saved to: /media/sf_Granular/beauty/data/processed/osm/len_powerlines_DE_4647.tif \n",
      "terra 1.7.78\n",
      "Error: [writeRaster] cannot guess file type from filename\n",
      "Execution halted\n",
      "0...10...20...30...40...50...60...70...80...90...100 - done.\n",
      "Rasterization complete. Output saved to: /media/sf_Granular/beauty/data/processed/osm/freq_windpowerplants_DE_4647.tif\n"
     ]
    }
   ],
   "source": [
    "!../scripts/rasterize_OSM_line_geom_EU.R $powerlines_vector $powerlines_raster $powerlines_EU_raster_scaled\n",
    "!../scripts/rasterize_OSM_line_geom_EU.R $streets_vector $streets_vector $streets_raster_scaled\n",
    "!../scripts/rasterize_OSM_point_geom_EU.sh $windpower_vector $windpower_raster $windpower_EU_raster_scaled"
   ]
  },
  {
   "cell_type": "markdown",
   "metadata": {},
   "source": [
    "# Corine Landcover (CLC)"
   ]
  },
  {
   "cell_type": "code",
   "execution_count": 1,
   "metadata": {},
   "outputs": [
    {
     "name": "stdout",
     "output_type": "stream",
     "text": [
      "This is the rural_beauty module\n"
     ]
    },
    {
     "data": {
      "text/plain": [
       "['code_acker.tif',\n",
       " 'code_heide.tif',\n",
       " 'code_natgru.tif',\n",
       " 'code_noveg.tif',\n",
       " 'code_obst.tif',\n",
       " 'code_seemee.tif',\n",
       " 'code_spfr.tif',\n",
       " 'code_stoer.tif',\n",
       " 'code_wald.tif']"
      ]
     },
     "execution_count": 1,
     "metadata": {},
     "output_type": "execute_result"
    }
   ],
   "source": [
    "# import paths from config.py\n",
    "from rural_beauty.config import CLC_EU, CLC_boolean_layers_dir, CLC_coverage_EU_dir\n",
    "from rural_beauty import split_CLC_layers\n",
    "\n",
    "split_CLC_layers.main(CLC_EU, CLC_boolean_layers_dir)\n",
    "\n",
    "os.listdir(CLC_boolean_layers_dir)\n"
   ]
  },
  {
   "cell_type": "code",
   "execution_count": 2,
   "metadata": {},
   "outputs": [],
   "source": [
    "# pass the coverage output folder and the boolean layers folder to the OS for the next step\n",
    "os.environ['CLC_boolean_layers_dir'] = str(CLC_boolean_layers_dir)\n",
    "os.environ['CLC_coverage_dir'] = str(CLC_coverage_EU_dir)\n"
   ]
  },
  {
   "cell_type": "code",
   "execution_count": 4,
   "metadata": {},
   "outputs": [
    {
     "name": "stdout",
     "output_type": "stream",
     "text": [
      "File /media/sf_Granular/beauty/data/cleaned/clc/layer_coverage_DE/code_acker.tif already exists, skipping...\n",
      "File /media/sf_Granular/beauty/data/cleaned/clc/layer_coverage_DE/code_heide.tif already exists, skipping...\n",
      "File /media/sf_Granular/beauty/data/cleaned/clc/layer_coverage_DE/code_natgru.tif already exists, skipping...\n",
      "File /media/sf_Granular/beauty/data/cleaned/clc/layer_coverage_DE/code_noveg.tif already exists, skipping...\n",
      "File /media/sf_Granular/beauty/data/cleaned/clc/layer_coverage_DE/code_obst.tif already exists, skipping...\n",
      "File /media/sf_Granular/beauty/data/cleaned/clc/layer_coverage_DE/code_seemee.tif already exists, skipping...\n",
      "File /media/sf_Granular/beauty/data/cleaned/clc/layer_coverage_DE/code_spfr.tif already exists, skipping...\n",
      "File /media/sf_Granular/beauty/data/cleaned/clc/layer_coverage_DE/code_stoer.tif already exists, skipping...\n",
      "File /media/sf_Granular/beauty/data/cleaned/clc/layer_coverage_DE/code_wald.tif already exists, skipping...\n",
      "Resampling complete.\n"
     ]
    }
   ],
   "source": [
    "!../scripts/resample_CLC_DE.sh $CLC_boolean_layers_dir $CLC_coverage_EU_dir"
   ]
  },
  {
   "cell_type": "markdown",
   "metadata": {},
   "source": [
    "# Hemerobieindex\n"
   ]
  },
  {
   "cell_type": "code",
   "execution_count": 3,
   "metadata": {},
   "outputs": [],
   "source": [
    "from rural_beauty.config import heme2012_DE, heme2012_DE_repojected\n",
    "\n",
    "os.environ['heme2012_DE'] = str(heme2012_DE)\n",
    "os.environ['heme2012_DE_repojected'] = str(heme2012_DE_repojected)"
   ]
  },
  {
   "cell_type": "code",
   "execution_count": 6,
   "metadata": {},
   "outputs": [
    {
     "name": "stdout",
     "output_type": "stream",
     "text": [
      "Input: /media/sf_Granular/beauty/data/raw/hemerobie_IOER/heme2012.tif\n",
      "Output: /media/sf_Granular/beauty/data/cleaned/hemerobie_IOER/heme2012.tif\n"
     ]
    },
    {
     "name": "stdout",
     "output_type": "stream",
     "text": [
      "Creating output file that is 642P x 867L.\n",
      "Processing /media/sf_Granular/beauty/data/raw/hemerobie_IOER/heme2012.tif [1/1] : 0Using internal nodata values (e.g. -9998) for image /media/sf_Granular/beauty/data/raw/hemerobie_IOER/heme2012.tif.\n",
      "Copying nodata values from source /media/sf_Granular/beauty/data/raw/hemerobie_IOER/heme2012.tif to destination /media/sf_Granular/beauty/data/cleaned/hemerobie_IOER/heme2012.tif.\n",
      "...10...20...30...40...50...60...70...80...90...100 - done.\n"
     ]
    }
   ],
   "source": [
    "%%bash \n",
    "echo \"Input: $heme2012_DE\"\n",
    "echo \"Output: $heme2012_DE_repojected\"\n",
    "\n",
    "../scripts/reproject_heme.sh $heme2012_DE $heme2012_DE_reprojected"
   ]
  },
  {
   "cell_type": "markdown",
   "metadata": {},
   "source": [
    "# Protected Areas"
   ]
  },
  {
   "cell_type": "code",
   "execution_count": 1,
   "metadata": {},
   "outputs": [
    {
     "name": "stdout",
     "output_type": "stream",
     "text": [
      "This is the rural_beauty module\n"
     ]
    }
   ],
   "source": [
    "from rural_beauty.config import protected0, protected1, protected2, protected_EU, protected_raster\n",
    "\n",
    "os.environ['protected0'] = str(protected0)\n",
    "os.environ['protected1'] = str(protected1)\n",
    "os.environ['protected2'] = str(protected2)\n",
    "\n",
    "# intermediary stack of EU based polygons of protected areas\n",
    "os.environ['protected_EU'] = str(protected_EU)\n",
    "\n",
    "# raster of 'protected area within px'\n",
    "os.environ['protected_raster'] = str(protected_raster)"
   ]
  },
  {
   "cell_type": "code",
   "execution_count": null,
   "metadata": {},
   "outputs": [],
   "source": [
    "%%bash \n",
    "echo \"Output: $protected_EU\"\n",
    "\n",
    "../scripts/WDPA_subset_reproject.sh $protected0 $protected1 $protected2 $protected_EU"
   ]
  },
  {
   "cell_type": "code",
   "execution_count": null,
   "metadata": {},
   "outputs": [],
   "source": [
    "%%bash\n",
    "echo \"Rasterizing... Output: $protected_raster\"\n",
    "\n",
    "../scripts/rasterize_protected_poly_geom_EU.R $protected_EU $protected_raster"
   ]
  }
 ],
 "metadata": {
  "kernelspec": {
   "display_name": ".venv",
   "language": "python",
   "name": "python3"
  },
  "language_info": {
   "codemirror_mode": {
    "name": "ipython",
    "version": 3
   },
   "file_extension": ".py",
   "mimetype": "text/x-python",
   "name": "python",
   "nbconvert_exporter": "python",
   "pygments_lexer": "ipython3",
   "version": "3.10.12"
  }
 },
 "nbformat": 4,
 "nbformat_minor": 4
}
