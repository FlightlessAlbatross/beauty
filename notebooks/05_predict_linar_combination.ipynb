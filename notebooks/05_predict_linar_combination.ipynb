{
 "cells": [
  {
   "cell_type": "code",
   "execution_count": 8,
   "metadata": {},
   "outputs": [],
   "source": [
    "import rasterio\n",
    "import numpy as np\n",
    "import joblib\n",
    "import pandas as pd\n",
    "\n",
    "from rural_beauty.config import data_dir, models_dir \n",
    "# from rural_beauty.config import BFN_features_unique, BFN_coefs_unique, BFN_constant_unique\n",
    "\n",
    "\n"
   ]
  },
  {
   "cell_type": "code",
   "execution_count": 9,
   "metadata": {},
   "outputs": [],
   "source": [
    "para_outcome = 'diverse'\n",
    "para_type = 'elastic'\n",
    "sugar    =  '281024'  # random identifier to have different models with same other paras\n",
    "model_basename = f\"{para_outcome}_{para_type}_{sugar}\"\n",
    "model_folder = models_dir / model_basename\n"
   ]
  },
  {
   "cell_type": "code",
   "execution_count": null,
   "metadata": {},
   "outputs": [],
   "source": [
    "pd.read_csv()"
   ]
  },
  {
   "cell_type": "code",
   "execution_count": 7,
   "metadata": {},
   "outputs": [],
   "source": [
    "raster_paths = [v for k,v in features.items()]\n",
    "coefficients = [coefs[k] for k,v in features.items()]\n"
   ]
  },
  {
   "cell_type": "code",
   "execution_count": 10,
   "metadata": {},
   "outputs": [
    {
     "data": {
      "text/plain": [
       "[PosixPath('/h/u145/hofer/MyDocuments/Granular/beauty/data/cleaned/dem/DEM_EU_range.tif'),\n",
       " PosixPath('/h/u145/hofer/MyDocuments/Granular/beauty/data/cleaned/dem/neighborhood/DEM_EU_range_zone3.tif'),\n",
       " PosixPath('/h/u145/hofer/MyDocuments/Granular/beauty/data/cleaned/clc/layer_coverage_EU/code_seemee.tif'),\n",
       " PosixPath('/h/u145/hofer/MyDocuments/Granular/beauty/data/cleaned/clc/layer_coverage_EU/code_heide.tif'),\n",
       " PosixPath('/h/u145/hofer/MyDocuments/Granular/beauty/data/cleaned/protected/WDPA_area.tif'),\n",
       " PosixPath('/h/u145/hofer/MyDocuments/Granular/beauty/data/cleaned/clc/layer_coverage_EU/neighborhood/code_natgru_zone1_2.tif'),\n",
       " PosixPath('/h/u145/hofer/MyDocuments/Granular/beauty/data/cleaned/clc/layer_coverage_EU/code_wein.tif'),\n",
       " PosixPath('/h/u145/hofer/MyDocuments/Granular/beauty/data/cleaned/clc/layer_coverage_EU/neighborhood/code_acker_zone1_2.tif'),\n",
       " PosixPath('/h/u145/hofer/MyDocuments/Granular/beauty/data/cleaned/clc/layer_coverage_EU/neighborhood/code_stoer_zone1_2.tif'),\n",
       " PosixPath('/h/u145/hofer/MyDocuments/Granular/beauty/data/cleaned/osm/len_streets_EU_4647.tif'),\n",
       " PosixPath('/h/u145/hofer/MyDocuments/Granular/beauty/data/cleaned/osm/len_powerlines_EU_4647.tif')]"
      ]
     },
     "execution_count": 10,
     "metadata": {},
     "output_type": "execute_result"
    }
   ],
   "source": [
    "raster_paths"
   ]
  },
  {
   "cell_type": "code",
   "execution_count": 8,
   "metadata": {},
   "outputs": [],
   "source": [
    "# New base directory for the adjusted rasters\n",
    "new_base_dir =  data_dir / 'forprediction/uniqueness'\n",
    "\n",
    "new_base_dir.mkdir(parents=True, exist_ok=True)\n",
    "\n",
    "# Create new list of file paths for the adjusted rasters\n",
    "adjusted_raster_paths = [new_base_dir / raster_path.name for raster_path in raster_paths]\n"
   ]
  },
  {
   "cell_type": "code",
   "execution_count": 9,
   "metadata": {},
   "outputs": [],
   "source": [
    "import rasterio\n",
    "from rasterio.warp import calculate_default_transform, reproject, Resampling\n",
    "import numpy as np\n",
    "import joblib\n",
    "\n",
    "def subset_normalize_and_align_rasters(raster_paths, output_paths, scaler_path):\n",
    "    \"\"\"\n",
    "    Subset all rasters to the largest area contained within all inputs,\n",
    "    align them to the same resolution and extent, and normalize the data using a saved scaler.\n",
    "\n",
    "    Args:\n",
    "    - raster_paths (list of str): List of file paths to the input rasters.\n",
    "    - output_paths (list of str): List of output file paths to save the aligned and normalized rasters.\n",
    "    - scaler_path (str): Path to the .pkl file containing the fitted StandardScaler.\n",
    "    \"\"\"\n",
    "    # Load the scaler\n",
    "    scaler = joblib.load(scaler_path)\n",
    "\n",
    "    # Open all rasters and get their bounds\n",
    "    bounds_list = []\n",
    "    transforms = []\n",
    "    crs = None\n",
    "\n",
    "    for path in raster_paths:\n",
    "        with rasterio.open(path) as src:\n",
    "            bounds_list.append(src.bounds)\n",
    "            transforms.append(src.transform)\n",
    "            if crs is None:\n",
    "                crs = src.crs  # Assuming all rasters are in the same CRS, else reproject would be needed.\n",
    "\n",
    "    # Calculate the largest common intersection (extent)\n",
    "    intersection_bounds = (\n",
    "        max([b.left for b in bounds_list]),   # Left bound\n",
    "        max([b.bottom for b in bounds_list]), # Bottom bound\n",
    "        min([b.right for b in bounds_list]),  # Right bound\n",
    "        min([b.top for b in bounds_list])     # Top bound\n",
    "    )\n",
    "\n",
    "    ref_resolution = 1000\n",
    "    pixel_width = ref_resolution\n",
    "    pixel_height = ref_resolution\n",
    "    width = int((intersection_bounds[2] - intersection_bounds[0]) / pixel_width)\n",
    "    height = int((intersection_bounds[3] - intersection_bounds[1]) / pixel_height)\n",
    "\n",
    "    # Align rasters to this common extent\n",
    "    for idx, (raster_path, output_path) in enumerate(zip(raster_paths, output_paths)):\n",
    "        with rasterio.open(raster_path) as src:\n",
    "            # Calculate the transform for the common extent\n",
    "            transform, _, _ = calculate_default_transform(\n",
    "                src.crs, src.crs, width=width, height=height, \n",
    "                left=intersection_bounds[0], bottom=intersection_bounds[1], \n",
    "                right=intersection_bounds[2], top=intersection_bounds[3])\n",
    "\n",
    "            # Create a new dataset with the common extent\n",
    "            kwargs = src.meta.copy()\n",
    "            kwargs.update({\n",
    "                'height': height,\n",
    "                'width': width,\n",
    "                'transform': transform\n",
    "            })\n",
    "            print(f\"Aligning and normalizing {raster_path}. Dimensions: {width}, {height}\")\n",
    "\n",
    "            # Read, reproject, and normalize the data, then save\n",
    "            with rasterio.open(output_path, 'w', **kwargs) as dst:\n",
    "                for i in range(1, src.count + 1):  # Reproject and normalize all bands\n",
    "                    # Allocate an array to hold the reprojected data\n",
    "                    reprojected_data = np.empty((height, width), dtype=src.dtypes[i - 1])\n",
    "                    \n",
    "                    reproject(\n",
    "                        source=rasterio.band(src, i),\n",
    "                        destination=reprojected_data,\n",
    "                        src_transform=src.transform,\n",
    "                        src_crs=src.crs,\n",
    "                        dst_transform=transform,\n",
    "                        dst_crs=src.crs,\n",
    "                        resampling=Resampling.nearest  # You can change this to another method if needed\n",
    "                    )\n",
    "\n",
    "                    # Normalize data (flatten, transform, reshape back)\n",
    "                    reprojected_data_flat = reprojected_data.flatten().reshape(-1, 1)\n",
    "                    normalized_data_flat = scaler.transform(reprojected_data_flat)\n",
    "                    normalized_data = normalized_data_flat.reshape(height, width)\n",
    "\n",
    "                    # Write the normalized data to the output file\n",
    "                    dst.write(normalized_data, i)\n",
    "\n",
    "\n",
    "\n",
    "\n"
   ]
  },
  {
   "cell_type": "code",
   "execution_count": 8,
   "metadata": {},
   "outputs": [
    {
     "name": "stdout",
     "output_type": "stream",
     "text": [
      "Aligning /h/u145/hofer/MyDocuments/Granular/beauty/data/cleaned/dem/DEM_EU_range.tif. dimensions: 6564, 4058\n",
      "Aligning /h/u145/hofer/MyDocuments/Granular/beauty/data/cleaned/dem/neighborhood/DEM_EU_range_zone3.tif. dimensions: 6564, 4058\n",
      "Aligning /h/u145/hofer/MyDocuments/Granular/beauty/data/cleaned/clc/layer_coverage_EU/code_seemee.tif. dimensions: 6564, 4058\n",
      "Aligning /h/u145/hofer/MyDocuments/Granular/beauty/data/cleaned/clc/layer_coverage_EU/code_heide.tif. dimensions: 6564, 4058\n",
      "Aligning /h/u145/hofer/MyDocuments/Granular/beauty/data/cleaned/protected/WDPA_area.tif. dimensions: 6564, 4058\n",
      "Aligning /h/u145/hofer/MyDocuments/Granular/beauty/data/cleaned/clc/layer_coverage_EU/neighborhood/code_natgru_zone1_2.tif. dimensions: 6564, 4058\n",
      "Aligning /h/u145/hofer/MyDocuments/Granular/beauty/data/cleaned/clc/layer_coverage_EU/code_wein.tif. dimensions: 6564, 4058\n",
      "Aligning /h/u145/hofer/MyDocuments/Granular/beauty/data/cleaned/clc/layer_coverage_EU/neighborhood/code_acker_zone1_2.tif. dimensions: 6564, 4058\n",
      "Aligning /h/u145/hofer/MyDocuments/Granular/beauty/data/cleaned/clc/layer_coverage_EU/neighborhood/code_stoer_zone1_2.tif. dimensions: 6564, 4058\n",
      "Aligning /h/u145/hofer/MyDocuments/Granular/beauty/data/cleaned/osm/len_streets_EU_4647.tif. dimensions: 6564, 4058\n",
      "Aligning /h/u145/hofer/MyDocuments/Granular/beauty/data/cleaned/osm/len_powerlines_EU_4647.tif. dimensions: 6564, 4058\n"
     ]
    }
   ],
   "source": [
    "subset_normalize_and_align_rasters(raster_paths, adjusted_raster_paths, normalize_X_diverse)"
   ]
  },
  {
   "cell_type": "code",
   "execution_count": 9,
   "metadata": {},
   "outputs": [],
   "source": [
    "import rasterio\n",
    "import numpy as np\n",
    "\n",
    "def linear_combination_rasters(raster_paths, coefficients, constant, output_path):\n",
    "    \"\"\"\n",
    "    Create a new raster from a linear combination of input rasters.\n",
    "    \n",
    "    Args:\n",
    "    - raster_paths (list of str): List of file paths to the input rasters.\n",
    "    - coefficients (list of float): Coefficients for the linear combination, same length as raster_paths.\n",
    "    - output_path (str): File path to save the output raster.\n",
    "    \"\"\"\n",
    "    # Open the first raster to get metadata\n",
    "    with rasterio.open(raster_paths[0]) as src:\n",
    "        meta = src.meta\n",
    "        data = src.read(1) * coefficients[0]  # Read the first raster and multiply by its coefficient\n",
    "\n",
    "    # Loop through the remaining rasters and apply the linear combination\n",
    "    for i, raster_path in enumerate(raster_paths[1:], start=1):\n",
    "        with rasterio.open(raster_path) as src:\n",
    "            data += src.read(1) * coefficients[i]  # Add the weighted raster data\n",
    "\n",
    "    data += constant\n",
    "    # Update metadata if needed (e.g., datatype)\n",
    "    meta.update(dtype=rasterio.float64)\n",
    "\n",
    "    # Save the result as a new raster\n",
    "    with rasterio.open(output_path, 'w', **meta) as dst:\n",
    "        dst.write(data.astype(rasterio.float64), 1)\n",
    "\n",
    "\n"
   ]
  },
  {
   "cell_type": "code",
   "execution_count": 11,
   "metadata": {},
   "outputs": [],
   "source": [
    "linear_combination_rasters(adjusted_raster_paths, coefficients, constant, data_dir / 'unique.tif')"
   ]
  }
 ],
 "metadata": {
  "kernelspec": {
   "display_name": ".venv",
   "language": "python",
   "name": "python3"
  },
  "language_info": {
   "codemirror_mode": {
    "name": "ipython",
    "version": 3
   },
   "file_extension": ".py",
   "mimetype": "text/x-python",
   "name": "python",
   "nbconvert_exporter": "python",
   "pygments_lexer": "ipython3",
   "version": "3.10.12"
  }
 },
 "nbformat": 4,
 "nbformat_minor": 2
}
