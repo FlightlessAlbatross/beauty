{
 "cells": [
  {
   "cell_type": "code",
   "execution_count": 1,
   "metadata": {},
   "outputs": [
    {
     "name": "stdout",
     "output_type": "stream",
     "text": [
      "This is the rural_beauty module\n"
     ]
    }
   ],
   "source": [
    "import rasterio\n",
    "import numpy as np\n",
    "\n",
    "from rural_beauty.config import data_dir, CLC_coverage_EU_dir, streets_EU_raster, powerlines_EU_raster\n",
    "\n"
   ]
  },
  {
   "cell_type": "code",
   "execution_count": null,
   "metadata": {},
   "outputs": [],
   "source": [
    "coefs = {\n",
    "    'dem_1': 0.009,\n",
    "    'dem_3': 0.004,, \n",
    "    'seemee_1': 0.011, \n",
    "}"
   ]
  },
  {
   "cell_type": "code",
   "execution_count": 3,
   "metadata": {},
   "outputs": [],
   "source": [
    "features = {\n",
    " 'dem_1'    : data_dir / 'cleaned/dem/DEM_EU_range.tif',\n",
    " 'dem_3'    : data_dir / 'cleaned/dem/neighborhood/DEM_EU_range_zone3.tif',\n",
    " 'seemee_1' : CLC_coverage_EU_dir / 'code_seemee.tif',\n",
    " 'heide_1'  : CLC_coverage_EU_dir / 'code_heide.tif',\n",
    " 'natgru_1_2' : CLC_coverage_EU_dir / 'neighborhood/code_natgru_zone1_2.tif',\n",
    " 'wein_1'   : CLC_coverage_EU_dir / 'code_wein.tif', \n",
    " 'acker_1_2': CLC_coverage_EU_dir / 'neighborhood/code_acker_zone1_2.tif',\n",
    " 'stoer_1_2'  :CLC_coverage_EU_dir / 'neighborhood/code_stoer_zone1_2.tif',\n",
    " 'stra_1' : data_dir / 'cleaned/osm/len_streets_EU_4647.tif', \n",
    " 'leit_1'   : data_dir / 'cleaned/osm/len_powerlines_EU_4647.tif', \n",
    "           }\n"
   ]
  },
  {
   "cell_type": "code",
   "execution_count": 7,
   "metadata": {},
   "outputs": [],
   "source": [
    "constant = 4.595\n",
    "\n",
    "coefs = {\n",
    "  'dem_1'      : 0.009,\n",
    "  'dem_3'      : 0.004,\n",
    "  'seemee_1'   : 0.011,\n",
    "  'heide_1'    : 0.035,\n",
    "  'natgru_1_2' : 0.023,\n",
    "  'wein_1'     : 0.009,\n",
    "  'acker_1_2'  :-0.008,\n",
    "  'stoer_1_2'  :-0.024,\n",
    "  'stra_1'     :-0.00002711,\n",
    "  'leit_1'     :-0.00006803,\n",
    "}\n",
    "\n"
   ]
  },
  {
   "cell_type": "code",
   "execution_count": 14,
   "metadata": {},
   "outputs": [
    {
     "data": {
      "text/plain": [
       "[PosixPath('/h/u145/hofer/MyDocuments/Granular/beauty/data/cleaned/dem/DEM_EU_range.tif'),\n",
       " PosixPath('/h/u145/hofer/MyDocuments/Granular/beauty/data/cleaned/dem/neighborhood/DEM_EU_range_zone3.tif'),\n",
       " PosixPath('/h/u145/hofer/MyDocuments/Granular/beauty/data/cleaned/clc/layer_coverage_EU/code_seemee.tif'),\n",
       " PosixPath('/h/u145/hofer/MyDocuments/Granular/beauty/data/cleaned/clc/layer_coverage_EU/code_heide.tif'),\n",
       " PosixPath('/h/u145/hofer/MyDocuments/Granular/beauty/data/cleaned/clc/layer_coverage_EU/neighborhood/code_natgru_zone1_2.tif'),\n",
       " PosixPath('/h/u145/hofer/MyDocuments/Granular/beauty/data/cleaned/clc/layer_coverage_EU/code_wein.tif'),\n",
       " PosixPath('/h/u145/hofer/MyDocuments/Granular/beauty/data/cleaned/clc/layer_coverage_EU/neighborhood/code_acker_zone1_2.tif'),\n",
       " PosixPath('/h/u145/hofer/MyDocuments/Granular/beauty/data/cleaned/clc/layer_coverage_EU/neighborhood/code_stoer_zone1_2.tif'),\n",
       " PosixPath('/h/u145/hofer/MyDocuments/Granular/beauty/data/cleaned/osm/len_streets_EU_4647.tif'),\n",
       " PosixPath('/h/u145/hofer/MyDocuments/Granular/beauty/data/cleaned/osm/len_powerlines_EU_4647.tif')]"
      ]
     },
     "execution_count": 14,
     "metadata": {},
     "output_type": "execute_result"
    }
   ],
   "source": [
    "raster_paths = [v for k,v in features.items()]\n",
    "coefficients = [coefs[k] for k,v in features.items()]\n",
    "raster_paths"
   ]
  },
  {
   "cell_type": "code",
   "execution_count": 17,
   "metadata": {},
   "outputs": [],
   "source": [
    "# New base directory for the adjusted rasters\n",
    "new_base_dir =  data_dir / 'forprediction/uniqueness'\n",
    "\n",
    "new_base_dir.mkdir(parents=True, exist_ok=True)\n",
    "\n",
    "# Create new list of file paths for the adjusted rasters\n",
    "adjusted_raster_paths = [new_base_dir / raster_path.name for raster_path in raster_paths]\n"
   ]
  },
  {
   "cell_type": "code",
   "execution_count": 18,
   "metadata": {},
   "outputs": [],
   "source": [
    "import rasterio\n",
    "from rasterio.warp import calculate_default_transform, reproject, Resampling\n",
    "from rasterio.mask import mask\n",
    "import numpy as np\n",
    "\n",
    "def subset_and_align_rasters(raster_paths, output_paths):\n",
    "    \"\"\"\n",
    "    Subset all rasters to the largest area contained within all inputs, \n",
    "    and align them to the same resolution and extent.\n",
    "\n",
    "    Args:\n",
    "    - raster_paths (list of str): List of file paths to the input rasters.\n",
    "    - output_paths (list of str): List of output file paths to save the aligned rasters.\n",
    "    \"\"\"\n",
    "    # Open all rasters and get their bounds\n",
    "    bounds_list = []\n",
    "    transforms = []\n",
    "    crs = None\n",
    "\n",
    "    for path in raster_paths:\n",
    "        with rasterio.open(path) as src:\n",
    "            bounds_list.append(src.bounds)\n",
    "            transforms.append(src.transform)\n",
    "            if crs is None:\n",
    "                crs = src.crs  # Assuming all rasters are in the same CRS, else reproject would be needed.\n",
    "\n",
    "    # Calculate the largest common intersection (extent)\n",
    "    intersection_bounds = (\n",
    "        max([b.left for b in bounds_list]),   # Left bound\n",
    "        max([b.bottom for b in bounds_list]), # Bottom bound\n",
    "        min([b.right for b in bounds_list]),  # Right bound\n",
    "        min([b.top for b in bounds_list])     # Top bound\n",
    "    )\n",
    "\n",
    "    # Align rasters to this common extent\n",
    "    for idx, (raster_path, output_path) in enumerate(zip(raster_paths, output_paths)):\n",
    "        with rasterio.open(raster_path) as src:\n",
    "            # Calculate the transform and dimensions for the common extent\n",
    "            transform, width, height = calculate_default_transform(\n",
    "                src.crs, src.crs, width=src.width, height=src.height, left=intersection_bounds[0],\n",
    "                bottom=intersection_bounds[1], right=intersection_bounds[2], top=intersection_bounds[3])\n",
    "\n",
    "            # Create a new dataset with the common extent\n",
    "            kwargs = src.meta.copy()\n",
    "            kwargs.update({\n",
    "                'height': height,\n",
    "                'width': width,\n",
    "                'transform': transform\n",
    "            })\n",
    "\n",
    "            # Read the data and reproject to align with the common extent\n",
    "            with rasterio.open(output_path, 'w', **kwargs) as dst:\n",
    "                for i in range(1, src.count + 1):  # Reproject all bands\n",
    "                    reproject(\n",
    "                        source=rasterio.band(src, i),\n",
    "                        destination=rasterio.band(dst, i),\n",
    "                        src_transform=src.transform,\n",
    "                        src_crs=src.crs,\n",
    "                        dst_transform=transform,\n",
    "                        dst_crs=src.crs,\n",
    "                        resampling=Resampling.nearest  # You can change this to another method if needed\n",
    "                    )\n",
    "\n",
    "# Example usage\n",
    "\n",
    "\n",
    "subset_and_align_rasters(raster_paths, adjusted_raster_paths)\n"
   ]
  },
  {
   "cell_type": "code",
   "execution_count": 11,
   "metadata": {},
   "outputs": [],
   "source": [
    "import rasterio\n",
    "import numpy as np\n",
    "\n",
    "def linear_combination_rasters(raster_paths, coefficients, constant, output_path):\n",
    "    \"\"\"\n",
    "    Create a new raster from a linear combination of input rasters.\n",
    "    \n",
    "    Args:\n",
    "    - raster_paths (list of str): List of file paths to the input rasters.\n",
    "    - coefficients (list of float): Coefficients for the linear combination, same length as raster_paths.\n",
    "    - output_path (str): File path to save the output raster.\n",
    "    \"\"\"\n",
    "    # Open the first raster to get metadata\n",
    "    with rasterio.open(raster_paths[0]) as src:\n",
    "        meta = src.meta\n",
    "        data = src.read(1) * coefficients[0]  # Read the first raster and multiply by its coefficient\n",
    "\n",
    "    # Loop through the remaining rasters and apply the linear combination\n",
    "    for i, raster_path in enumerate(raster_paths[1:], start=1):\n",
    "        with rasterio.open(raster_path) as src:\n",
    "            data += src.read(1) * coefficients[i]  # Add the weighted raster data\n",
    "\n",
    "    data += constant\n",
    "    # Update metadata if needed (e.g., datatype)\n",
    "    meta.update(dtype=rasterio.float32)\n",
    "\n",
    "    # Save the result as a new raster\n",
    "    with rasterio.open(output_path, 'w', **meta) as dst:\n",
    "        dst.write(data.astype(rasterio.float32), 1)\n",
    "\n",
    "\n"
   ]
  },
  {
   "cell_type": "code",
   "execution_count": 12,
   "metadata": {},
   "outputs": [
    {
     "ename": "ValueError",
     "evalue": "operands could not be broadcast together with shapes (4060,6566) (5219,6894) (4060,6566) ",
     "output_type": "error",
     "traceback": [
      "\u001b[0;31m---------------------------------------------------------------------------\u001b[0m",
      "\u001b[0;31mValueError\u001b[0m                                Traceback (most recent call last)",
      "Cell \u001b[0;32mIn[12], line 1\u001b[0m\n\u001b[0;32m----> 1\u001b[0m \u001b[43mlinear_combination_rasters\u001b[49m\u001b[43m(\u001b[49m\u001b[43mraster_paths\u001b[49m\u001b[43m,\u001b[49m\u001b[43m \u001b[49m\u001b[43mcoefficients\u001b[49m\u001b[43m,\u001b[49m\u001b[43m \u001b[49m\u001b[43mconstant\u001b[49m\u001b[43m,\u001b[49m\u001b[43m \u001b[49m\u001b[38;5;124;43m'\u001b[39;49m\u001b[38;5;124;43mtestoutput.tif\u001b[39;49m\u001b[38;5;124;43m'\u001b[39;49m\u001b[43m)\u001b[49m\n",
      "Cell \u001b[0;32mIn[11], line 21\u001b[0m, in \u001b[0;36mlinear_combination_rasters\u001b[0;34m(raster_paths, coefficients, constant, output_path)\u001b[0m\n\u001b[1;32m     19\u001b[0m \u001b[38;5;28;01mfor\u001b[39;00m i, raster_path \u001b[38;5;129;01min\u001b[39;00m \u001b[38;5;28menumerate\u001b[39m(raster_paths[\u001b[38;5;241m1\u001b[39m:], start\u001b[38;5;241m=\u001b[39m\u001b[38;5;241m1\u001b[39m):\n\u001b[1;32m     20\u001b[0m     \u001b[38;5;28;01mwith\u001b[39;00m rasterio\u001b[38;5;241m.\u001b[39mopen(raster_path) \u001b[38;5;28;01mas\u001b[39;00m src:\n\u001b[0;32m---> 21\u001b[0m         data \u001b[38;5;241m+\u001b[39m\u001b[38;5;241m=\u001b[39m src\u001b[38;5;241m.\u001b[39mread(\u001b[38;5;241m1\u001b[39m) \u001b[38;5;241m*\u001b[39m coefficients[i]  \u001b[38;5;66;03m# Add the weighted raster data\u001b[39;00m\n\u001b[1;32m     23\u001b[0m data \u001b[38;5;241m+\u001b[39m\u001b[38;5;241m=\u001b[39m constant\n\u001b[1;32m     24\u001b[0m \u001b[38;5;66;03m# Update metadata if needed (e.g., datatype)\u001b[39;00m\n",
      "\u001b[0;31mValueError\u001b[0m: operands could not be broadcast together with shapes (4060,6566) (5219,6894) (4060,6566) "
     ]
    }
   ],
   "source": [
    "linear_combination_rasters(raster_paths, coefficients, constant, 'testoutput.tif')"
   ]
  }
 ],
 "metadata": {
  "kernelspec": {
   "display_name": "Python 3",
   "language": "python",
   "name": "python3"
  },
  "language_info": {
   "codemirror_mode": {
    "name": "ipython",
    "version": 3
   },
   "file_extension": ".py",
   "mimetype": "text/x-python",
   "name": "python",
   "nbconvert_exporter": "python",
   "pygments_lexer": "ipython3",
   "version": "3.10.12"
  }
 },
 "nbformat": 4,
 "nbformat_minor": 2
}
