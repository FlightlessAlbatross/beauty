{
 "cells": [
  {
   "cell_type": "code",
   "execution_count": 1,
   "id": "df9c97c6",
   "metadata": {},
   "outputs": [],
   "source": [
    "# Basic data manipulation\n",
    "import pandas as pd\n",
    "import numpy as np\n",
    "import joblib\n",
    "import os\n",
    "import json\n",
    "\n",
    "# Data visualization\n",
    "import matplotlib.pyplot as plt\n",
    "# Plotting Predicted vs Actual values\n",
    "def plot_predicted_vs_actual(y_true, y_pred):\n",
    "    plt.figure(figsize=(10, 6))\n",
    "    plt.scatter(y_true, y_pred, edgecolor='k', alpha=0.7)\n",
    "    plt.plot([y_true.min(), y_true.max()], [y_true.min(), y_true.max()], 'r--', lw=2)\n",
    "    plt.xlabel('Actual Values')\n",
    "    plt.ylabel('Predicted Values')\n",
    "    plt.show()\n",
    "\n",
    "def plot_predicted_vs_actual_with_jitter(y_true, y_pred, jitter_amount=0.02):\n",
    "    # Adding jitter: add normally distributed noise to both y_true and y_pred\n",
    "    jitter_y_true = y_true + np.random.normal(0, jitter_amount, y_true.shape)\n",
    "    jitter_y_pred = y_pred + np.random.normal(0, jitter_amount, y_pred.shape)\n",
    "\n",
    "    plt.figure(figsize=(10, 6))\n",
    "    plt.scatter(jitter_y_true, jitter_y_pred, edgecolor='k', alpha=0.7)\n",
    "    plt.plot([y_true.min(), y_true.max()], [y_true.min(), y_true.max()], 'r--', lw=2)\n",
    "    plt.xlabel('Actual Values')\n",
    "    plt.ylabel('Predicted Values')\n",
    "    plt.title('Predicted vs. Actual Values with Jitter')\n",
    "    plt.grid(True)\n",
    "    plt.show()\n",
    "\n",
    "# models\n",
    "from sklearn.linear_model import LinearRegression\n",
    "from sklearn.metrics import root_mean_squared_error\n",
    "\n",
    "# Data preprocessing\n",
    "from sklearn.preprocessing import StandardScaler, MinMaxScaler\n",
    "\n",
    "\n",
    "# Model evaluation and metrics\n",
    "from sklearn.model_selection import train_test_split\n",
    "from sklearn.metrics import (\n",
    "    r2_score,\n",
    "    confusion_matrix\n",
    ")\n",
    "\n",
    "\n",
    "def custom_accuracy_within_one_class(y_true, y_pred):\n",
    "    correct = np.sum(np.abs(y_true - y_pred) <= 1/(9))\n",
    "    total = len(y_true)\n",
    "    return correct / total\n",
    "\n",
    "\n",
    "def plot_confusion_matrix(y_true, y_pred):\n",
    "    \"\"\"\n",
    "    Plots a simple confusion matrix with minimal configuration.\n",
    "    \"\"\"\n",
    "    # Calculate the confusion matrix\n",
    "    cm = confusion_matrix(y_true, y_pred)\n",
    "    \n",
    "    plt.imshow(cm, interpolation='nearest', cmap=plt.cm.Blues)\n",
    "    plt.colorbar()  # Adds a colorbar to show the scale\n",
    "    plt.title('Confusion Matrix')\n",
    "    plt.ylabel('True label')\n",
    "    plt.xlabel('Predicted label')\n",
    "\n",
    "\n",
    "\n",
    "def plot_confusion_matrix_with_histograms(y_true, y_pred):\n",
    "    \"\"\"\n",
    "    Plots a confusion matrix with histograms for true and predicted label distributions.\n",
    "    \"\"\"\n",
    "    # Calculate the confusion matrix\n",
    "    cm = confusion_matrix(y_true, y_pred)\n",
    "    num_classes = cm.shape[0]\n",
    "    \n",
    "    # Create the main figure and axes\n",
    "    fig, ax = plt.subplots(figsize=(10, 10))\n",
    "    \n",
    "    # Positioning of the main confusion matrix plot\n",
    "    main_ax = plt.subplot2grid((num_classes+1, num_classes+1), (1, 0), colspan=num_classes, rowspan=num_classes)\n",
    "    main_ax.imshow(cm, interpolation='nearest', cmap=plt.cm.Blues)\n",
    "    \n",
    "    # Plot the histograms for the rows (True Labels)\n",
    "    for i in range(num_classes):\n",
    "        ax_row_hist = plt.subplot2grid((num_classes+1, num_classes+1), (1+i, num_classes))\n",
    "        ax_row_hist.barh([0], [np.sum(cm[i, :])], color=\"blue\", align='center')\n",
    "        ax_row_hist.set_xlim(0, np.max(np.sum(cm, axis=1)) * 1.1)  # slightly larger to accommodate all bars\n",
    "        ax_row_hist.set_yticks([])\n",
    "        ax_row_hist.set_xticks([])\n",
    "\n",
    "    # Plot the histograms for the columns (Predicted Labels)\n",
    "    for j in range(num_classes):\n",
    "        ax_col_hist = plt.subplot2grid((num_classes+1, num_classes+1), (num_classes, j))\n",
    "        ax_col_hist.bar([0], [np.sum(cm[:, j])], color=\"blue\", align='center')\n",
    "        ax_col_hist.set_ylim(0, np.max(np.sum(cm, axis=0)) * 1.1)  # slightly larger to accommodate all bars\n",
    "        ax_col_hist.set_xticks([])\n",
    "        ax_col_hist.set_yticks([])\n",
    "\n",
    "    # Labeling and showing the plot\n",
    "    main_ax.set_title('Confusion Matrix with Histograms')\n",
    "    main_ax.set_xlabel('Predicted label')\n",
    "    main_ax.set_ylabel('True label')\n",
    "    plt.tight_layout()\n",
    "    plt.show()\n",
    "\n",
    "\n",
    "def classify_linear_probability(data):\n",
    "    # Calculate mean and standard deviation\n",
    "    mean = data.mean()\n",
    "    std = data.std()\n",
    "    \n",
    "    # Define cutoffs based on your specification\n",
    "    cutoffs = [\n",
    "        mean - 2 * std,\n",
    "        mean - 1.5 * std,\n",
    "        mean - std,\n",
    "        mean - (1/3) * std,\n",
    "        mean + (1/3) * std,\n",
    "        mean + std,\n",
    "        mean + 1.5 * std,\n",
    "        mean + 2 * std\n",
    "    ]\n",
    "    \n",
    "    # Use pandas.cut to categorize the data\n",
    "    categories = pd.cut(data, bins=[-np.inf] + cutoffs + [np.inf], labels=[1, 2, 3, 4, 5, 6, 7, 8, 9])    \n",
    "\n",
    "\n",
    "    return categories.codes\n",
    "\n",
    "def get_model_performance(y,y_pred, plot = False):\n",
    "\n",
    "    rmse = np.sqrt(root_mean_squared_error(y, y_pred))\n",
    "    r_2 = r2_score(y, y_pred)\n",
    "    within_1 = custom_accuracy_within_one_class(y, y_pred)\n",
    "\n",
    "    # print(\"Mean Absolute Error (MAE):\", mean_absolute_error(y_train, y_pred_train))\n",
    "    # print(\"Mean Squared Error (MSE):\", mean_squared_error(y_train, y_pred_train))\n",
    "    print(\"Root Mean Squared Error (RMSE):\", rmse)\n",
    "    print(\"R-squared (R²):\", r_2)\n",
    "    print(\"Within 1:\", within_1)\n",
    "\n",
    "    if plot:\n",
    "        try:\n",
    "            plot_confusion_matrix_with_histograms(y, y_pred)\n",
    "        except ValueError:\n",
    "            plot_predicted_vs_actual(y,y_pred)\n",
    "\n",
    "    return rmse, r_2, within_1\n",
    "    "
   ]
  },
  {
   "cell_type": "code",
   "execution_count": 33,
   "id": "ecbd9471",
   "metadata": {},
   "outputs": [
    {
     "data": {
      "text/plain": [
       "'unique_linear_041124'"
      ]
     },
     "execution_count": 33,
     "metadata": {},
     "output_type": "execute_result"
    }
   ],
   "source": [
    "from rural_beauty.config import models_dir\n",
    "para_outcome = 'unique'\n",
    "para_type = 'linear'\n",
    "sugar    =  '041124'  # random identifier to have different models with same other paras\n",
    "\n",
    "\n",
    "model_basename = f\"{para_outcome}_{para_type}_{sugar}\"\n",
    "\n",
    "if not os.path.exists(models_dir / model_basename):\n",
    "    os.mkdir(models_dir / model_basename)\n",
    "\n",
    "model_basename\n"
   ]
  },
  {
   "cell_type": "markdown",
   "id": "06740f5c",
   "metadata": {},
   "source": [
    "enable %%R cells in the notebook (mostly for vizualisation)"
   ]
  },
  {
   "cell_type": "code",
   "execution_count": 34,
   "id": "2b58ca4b",
   "metadata": {},
   "outputs": [
    {
     "name": "stdout",
     "output_type": "stream",
     "text": [
      "The rpy2.ipython extension is already loaded. To reload it, use:\n",
      "  %reload_ext rpy2.ipython\n"
     ]
    }
   ],
   "source": [
    "%load_ext rpy2.ipython"
   ]
  },
  {
   "cell_type": "code",
   "execution_count": 35,
   "id": "bb9c7c85",
   "metadata": {},
   "outputs": [
    {
     "data": {
      "text/html": [
       "<div>\n",
       "<style scoped>\n",
       "    .dataframe tbody tr th:only-of-type {\n",
       "        vertical-align: middle;\n",
       "    }\n",
       "\n",
       "    .dataframe tbody tr th {\n",
       "        vertical-align: top;\n",
       "    }\n",
       "\n",
       "    .dataframe thead th {\n",
       "        text-align: right;\n",
       "    }\n",
       "</style>\n",
       "<table border=\"1\" class=\"dataframe\">\n",
       "  <thead>\n",
       "    <tr style=\"text-align: right;\">\n",
       "      <th></th>\n",
       "      <th>dem_1</th>\n",
       "      <th>dem_3</th>\n",
       "      <th>seemee_1</th>\n",
       "      <th>heide_1</th>\n",
       "      <th>sgall_1</th>\n",
       "      <th>natgru_1_2</th>\n",
       "      <th>wein_1</th>\n",
       "      <th>acker_1_2</th>\n",
       "      <th>stoer_1_2</th>\n",
       "      <th>stra_1</th>\n",
       "      <th>leit_1</th>\n",
       "    </tr>\n",
       "  </thead>\n",
       "  <tbody>\n",
       "    <tr>\n",
       "      <th>5010</th>\n",
       "      <td>0.010232</td>\n",
       "      <td>0.009072</td>\n",
       "      <td>0.0</td>\n",
       "      <td>0.0</td>\n",
       "      <td>0.0</td>\n",
       "      <td>0.0</td>\n",
       "      <td>0.0</td>\n",
       "      <td>0.234089</td>\n",
       "      <td>0.563936</td>\n",
       "      <td>0.0</td>\n",
       "      <td>0.029234</td>\n",
       "    </tr>\n",
       "    <tr>\n",
       "      <th>5011</th>\n",
       "      <td>0.011569</td>\n",
       "      <td>0.010685</td>\n",
       "      <td>0.0</td>\n",
       "      <td>0.0</td>\n",
       "      <td>0.0</td>\n",
       "      <td>0.0</td>\n",
       "      <td>0.0</td>\n",
       "      <td>0.013528</td>\n",
       "      <td>0.813629</td>\n",
       "      <td>0.0</td>\n",
       "      <td>0.000000</td>\n",
       "    </tr>\n",
       "    <tr>\n",
       "      <th>5012</th>\n",
       "      <td>0.005943</td>\n",
       "      <td>0.006602</td>\n",
       "      <td>0.0</td>\n",
       "      <td>0.0</td>\n",
       "      <td>0.0</td>\n",
       "      <td>0.0</td>\n",
       "      <td>0.0</td>\n",
       "      <td>0.070675</td>\n",
       "      <td>0.699017</td>\n",
       "      <td>0.0</td>\n",
       "      <td>0.000000</td>\n",
       "    </tr>\n",
       "    <tr>\n",
       "      <th>5013</th>\n",
       "      <td>0.031490</td>\n",
       "      <td>0.017165</td>\n",
       "      <td>0.0</td>\n",
       "      <td>0.0</td>\n",
       "      <td>0.0</td>\n",
       "      <td>0.0</td>\n",
       "      <td>0.0</td>\n",
       "      <td>0.000000</td>\n",
       "      <td>1.000000</td>\n",
       "      <td>0.0</td>\n",
       "      <td>0.000000</td>\n",
       "    </tr>\n",
       "    <tr>\n",
       "      <th>5014</th>\n",
       "      <td>0.007142</td>\n",
       "      <td>0.011197</td>\n",
       "      <td>0.0</td>\n",
       "      <td>0.0</td>\n",
       "      <td>0.0</td>\n",
       "      <td>0.0</td>\n",
       "      <td>0.0</td>\n",
       "      <td>0.082912</td>\n",
       "      <td>0.548811</td>\n",
       "      <td>0.0</td>\n",
       "      <td>0.000000</td>\n",
       "    </tr>\n",
       "  </tbody>\n",
       "</table>\n",
       "</div>"
      ],
      "text/plain": [
       "         dem_1     dem_3  seemee_1  heide_1  sgall_1  natgru_1_2  wein_1  \\\n",
       "5010  0.010232  0.009072       0.0      0.0      0.0         0.0     0.0   \n",
       "5011  0.011569  0.010685       0.0      0.0      0.0         0.0     0.0   \n",
       "5012  0.005943  0.006602       0.0      0.0      0.0         0.0     0.0   \n",
       "5013  0.031490  0.017165       0.0      0.0      0.0         0.0     0.0   \n",
       "5014  0.007142  0.011197       0.0      0.0      0.0         0.0     0.0   \n",
       "\n",
       "      acker_1_2  stoer_1_2  stra_1    leit_1  \n",
       "5010   0.234089   0.563936     0.0  0.029234  \n",
       "5011   0.013528   0.813629     0.0  0.000000  \n",
       "5012   0.070675   0.699017     0.0  0.000000  \n",
       "5013   0.000000   1.000000     0.0  0.000000  \n",
       "5014   0.082912   0.548811     0.0  0.000000  "
      ]
     },
     "execution_count": 35,
     "metadata": {},
     "output_type": "execute_result"
    }
   ],
   "source": [
    "from rural_beauty.config import predictors_DE, feature_paths, BFN_features_unique\n",
    "\n",
    "# Load the features paths dict\n",
    "with open(feature_paths, \"r\") as f:\n",
    "    features = json.load(f)\n",
    "\n",
    "\n",
    "predictors_all = pd.read_csv(predictors_DE, sep=\",\",  index_col=False, na_values = -99)\n",
    "\n",
    "predictors = predictors_all[BFN_features_unique.keys()]\n",
    "\n",
    "if 'hemero_1' in predictors.columns:\n",
    "    predictors = predictors.drop('hemero_1', axis = 1)\n",
    "\n",
    "predictors.tail(5)"
   ]
  },
  {
   "cell_type": "markdown",
   "id": "3b515778",
   "metadata": {},
   "source": [
    "Now the left hand side"
   ]
  },
  {
   "cell_type": "code",
   "execution_count": 36,
   "id": "94faa470",
   "metadata": {},
   "outputs": [
    {
     "data": {
      "text/html": [
       "<div>\n",
       "<style scoped>\n",
       "    .dataframe tbody tr th:only-of-type {\n",
       "        vertical-align: middle;\n",
       "    }\n",
       "\n",
       "    .dataframe tbody tr th {\n",
       "        vertical-align: top;\n",
       "    }\n",
       "\n",
       "    .dataframe thead th {\n",
       "        text-align: right;\n",
       "    }\n",
       "</style>\n",
       "<table border=\"1\" class=\"dataframe\">\n",
       "  <thead>\n",
       "    <tr style=\"text-align: right;\">\n",
       "      <th></th>\n",
       "      <th>unique</th>\n",
       "    </tr>\n",
       "  </thead>\n",
       "  <tbody>\n",
       "    <tr>\n",
       "      <th>5010</th>\n",
       "      <td>2</td>\n",
       "    </tr>\n",
       "    <tr>\n",
       "      <th>5011</th>\n",
       "      <td>2</td>\n",
       "    </tr>\n",
       "    <tr>\n",
       "      <th>5012</th>\n",
       "      <td>2</td>\n",
       "    </tr>\n",
       "    <tr>\n",
       "      <th>5013</th>\n",
       "      <td>2</td>\n",
       "    </tr>\n",
       "    <tr>\n",
       "      <th>5014</th>\n",
       "      <td>2</td>\n",
       "    </tr>\n",
       "  </tbody>\n",
       "</table>\n",
       "</div>"
      ],
      "text/plain": [
       "      unique\n",
       "5010       2\n",
       "5011       2\n",
       "5012       2\n",
       "5013       2\n",
       "5014       2"
      ]
     },
     "execution_count": 36,
     "metadata": {},
     "output_type": "execute_result"
    }
   ],
   "source": [
    "from rural_beauty.config import outcome_DE\n",
    "outcome = pd.read_csv(outcome_DE, sep=\",\",  index_col=False, na_values = -99)\n",
    "outcome = outcome[para_outcome].to_frame()\n",
    "outcome.tail(5)"
   ]
  },
  {
   "cell_type": "markdown",
   "id": "d59574f8",
   "metadata": {},
   "source": [
    "Split the Dataset"
   ]
  },
  {
   "cell_type": "code",
   "execution_count": 37,
   "id": "8de0f47d",
   "metadata": {},
   "outputs": [
    {
     "name": "stdout",
     "output_type": "stream",
     "text": [
      "(5015, 11)\n",
      "(5015, 1)\n"
     ]
    }
   ],
   "source": [
    "X    = predictors\n",
    "Y    = outcome\n",
    "feat = predictors.columns.values\n",
    "print(X.shape)\n",
    "print(Y.shape)"
   ]
  },
  {
   "cell_type": "code",
   "execution_count": 38,
   "id": "781c5744",
   "metadata": {},
   "outputs": [
    {
     "name": "stdout",
     "output_type": "stream",
     "text": [
      "NA rows: [np.int64(1186), np.int64(1445), np.int64(487), np.int64(4711), np.int64(2444), np.int64(2416), np.int64(1299), np.int64(1140), np.int64(1975), np.int64(4475), np.int64(542), np.int64(1087)]\n"
     ]
    }
   ],
   "source": [
    "# Find rows with NaN values in X\n",
    "na_rows_X = X.apply(lambda x: np.any(pd.isna(x)), axis=1)\n",
    "resultx = np.where(na_rows_X)[0]\n",
    "\n",
    "# Find rows with NaN values or values outside the rante in Y\n",
    "na_rows_Y = Y.apply(lambda x: np.any(pd.isna(x)) or np.any((x < 1) | (x > 9)), axis=1)\n",
    "resulty = np.where(na_rows_Y)[0]\n",
    "\n",
    "# Combine the results\n",
    "result = list(set(resulty).union(set(resultx)))\n",
    "\n",
    "print('NA rows: ' + str(result))"
   ]
  },
  {
   "cell_type": "code",
   "execution_count": 39,
   "id": "ec4d2354",
   "metadata": {},
   "outputs": [
    {
     "name": "stdout",
     "output_type": "stream",
     "text": [
      "(5003, 11)\n",
      "(5003, 1)\n"
     ]
    }
   ],
   "source": [
    "X = X.drop(X.index[result])\n",
    "Y = Y.drop(Y.index[result])\n",
    "\n",
    "print(X.shape)\n",
    "print(Y.shape)"
   ]
  },
  {
   "cell_type": "markdown",
   "id": "82ebc05e",
   "metadata": {},
   "source": [
    "Create 4 dataset for training and testing the algorithm "
   ]
  },
  {
   "cell_type": "code",
   "execution_count": 40,
   "id": "0f0778f7",
   "metadata": {},
   "outputs": [],
   "source": [
    "X_train, X_test, Y_train, Y_test = train_test_split(X, Y, test_size=0.5, random_state=2024, stratify = Y)\n"
   ]
  },
  {
   "cell_type": "code",
   "execution_count": 41,
   "id": "15d07ef0",
   "metadata": {},
   "outputs": [],
   "source": [
    "from rural_beauty.config import models_dir\n",
    "\n",
    "model_folder = models_dir / model_basename\n",
    "\n",
    "Y_train = Y_train / 9\n",
    "Y_test = Y_test / 9\n",
    "\n",
    "normalizer_X = model_folder / 'scaling_X.pkl'\n",
    "normalizer_Y = model_folder / 'scaling_Y.pkl'\n",
    "\n",
    "# Normalizing the data\n",
    "# scaler_X = StandardScaler()\n",
    "# scaler_Y = StandardScaler()\n",
    "\n",
    "# Fit the scaler on the training data and transform both training and testing data\n",
    "# X_train = scaler_X.fit_transform(X_train)\n",
    "# X_test = scaler_X.transform(X_test)\n",
    "# Y_train = scaler_Y.fit_transform(Y_train).ravel()\n",
    "# Y_test = scaler_Y.transform(Y_test).ravel()\n",
    "\n",
    "\n",
    "# joblib.dump(scaler_X, normalizer_X) \n",
    "# joblib.dump(scaler_Y, normalizer_Y) "
   ]
  },
  {
   "cell_type": "code",
   "execution_count": 42,
   "id": "3f1e732a-9777-4f77-b0d4-0d9db7d6cf0b",
   "metadata": {},
   "outputs": [
    {
     "name": "stdout",
     "output_type": "stream",
     "text": [
      "Intercept: [0.50523421]\n",
      "       Feature  Coefficient\n",
      "1        dem_3       1.7884\n",
      "0        dem_1       1.5231\n",
      "8    stoer_1_2      -0.3885\n",
      "3      heide_1       0.3819\n",
      "5   natgru_1_2      -0.2068\n",
      "9       stra_1      -0.1300\n",
      "10      leit_1      -0.1238\n",
      "7    acker_1_2      -0.1214\n",
      "4      sgall_1       0.0873\n",
      "2     seemee_1       0.0808\n",
      "6       wein_1       0.0760\n"
     ]
    }
   ],
   "source": [
    "linReg = LinearRegression()\n",
    "linReg.fit(X_train, Y_train)\n",
    "\n",
    "# Retrieve the estimated coefficients\n",
    "coefficients = pd.DataFrame({\n",
    "    'Feature': predictors.columns.tolist(),\n",
    "    'Coefficient': linReg.coef_[0,].tolist()\n",
    "})\n",
    "\n",
    "coefficients = coefficients.sort_values(by = 'Coefficient', key = lambda x: abs(x), ascending = False) \n",
    "\n",
    "# If you also need the intercept:\n",
    "intercept = linReg.intercept_\n",
    "\n",
    "print(\"Intercept:\", intercept)\n",
    "print(coefficients.round(4))\n"
   ]
  },
  {
   "cell_type": "code",
   "execution_count": 43,
   "id": "acd770b1-98d0-434b-a2fa-9814dff87ca2",
   "metadata": {},
   "outputs": [
    {
     "name": "stdout",
     "output_type": "stream",
     "text": [
      "Linear Probability: Training Set Performance\n",
      "Root Mean Squared Error (RMSE): 0.24596414772646882\n",
      "R-squared (R²): 0.8258080409742524\n",
      "Within 1: unique    0.95002\n",
      "dtype: float64\n",
      "---------------------------------------------\n",
      "Linear Probability: Test Set Performance\n",
      "Root Mean Squared Error (RMSE): 0.24744342964130034\n",
      "R-squared (R²): 0.8219295436288698\n",
      "Within 1: unique    0.948841\n",
      "dtype: float64\n",
      "--\n"
     ]
    },
    {
     "name": "stderr",
     "output_type": "stream",
     "text": [
      "/h/u145/hofer/MyDocuments/Granular/beauty/.venv/lib/python3.10/site-packages/numpy/_core/fromnumeric.py:84: FutureWarning: The behavior of DataFrame.sum with axis=None is deprecated, in a future version this will reduce over both axes and return a scalar. To retain the old behavior, pass axis=0 (or do not pass axis)\n",
      "  return reduction(axis=axis, out=out, **passkwargs)\n",
      "/h/u145/hofer/MyDocuments/Granular/beauty/.venv/lib/python3.10/site-packages/numpy/_core/fromnumeric.py:84: FutureWarning: The behavior of DataFrame.sum with axis=None is deprecated, in a future version this will reduce over both axes and return a scalar. To retain the old behavior, pass axis=0 (or do not pass axis)\n",
      "  return reduction(axis=axis, out=out, **passkwargs)\n"
     ]
    },
    {
     "data": {
      "image/png": "[encoded data removed]",
      "text/plain": [
       "<Figure size 1000x600 with 1 Axes>"
      ]
     },
     "metadata": {},
     "output_type": "display_data"
    }
   ],
   "source": [
    "# Make predictions\n",
    "Y_pred_train = linReg.predict(X_train)\n",
    "Y_pred_test = linReg.predict(X_test)\n",
    "\n",
    "print(\"Linear Probability: Training Set Performance\")\n",
    "get_model_performance(Y_train, Y_pred_train)\n",
    "print(\"---------------------------------------------\")\n",
    "print(\"Linear Probability: Test Set Performance\")\n",
    "get_model_performance(Y_test, Y_pred_test)\n",
    "print(\"--\")\n",
    "\n",
    "\n",
    "plot_predicted_vs_actual(Y_test, Y_pred_test)"
   ]
  },
  {
   "cell_type": "code",
   "execution_count": 46,
   "id": "848062cb",
   "metadata": {},
   "outputs": [],
   "source": [
    "joblib.dump(linReg, model_folder / 'model.pkl')\n",
    "\n",
    "significant_coefs_path = model_folder / \"significant_coefs.csv\"\n",
    "\n",
    "coefficients.to_csv(significant_coefs_path, index = False)"
   ]
  }
 ],
 "metadata": {
  "kernelspec": {
   "display_name": ".venv",
   "language": "python",
   "name": "python3"
  },
  "language_info": {
   "codemirror_mode": {
    "name": "ipython",
    "version": 3
   },
   "file_extension": ".py",
   "mimetype": "text/x-python",
   "name": "python",
   "nbconvert_exporter": "python",
   "pygments_lexer": "ipython3",
   "version": "3.10.12"
  }
 },
 "nbformat": 4,
 "nbformat_minor": 5
}
