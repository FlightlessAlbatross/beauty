{
 "cells": [
  {
   "cell_type": "code",
   "execution_count": 23,
   "id": "ebeab8a6",
   "metadata": {},
   "outputs": [],
   "source": [
    "import numpy as np\n",
    "from scipy.signal import convolve2d\n",
    "import rasterio\n",
    "import os\n",
    "from pathlib import Path"
   ]
  },
  {
   "cell_type": "markdown",
   "id": "b46b0e08",
   "metadata": {},
   "source": [
    "This notebook calculates neighborhood averages of the prepared datasets.\n",
    "\n",
    "Pixels in a circle 2,5 and 10 kilometer distance around each pixel are put into zone 2,3 and 4. Zone 1 is the pixel itself. \n",
    "The zones are exclusive, so zone 3 is only the pixels between 2 and 5 km distance. "
   ]
  },
  {
   "cell_type": "code",
   "execution_count": 22,
   "id": "9e9b024f",
   "metadata": {},
   "outputs": [],
   "source": [
    "from rural_beauty.config import CLC_coverage_DE_dir, DEM_DE_range, windpower_DE_raster, streets_DE_raster"
   ]
  },
  {
   "cell_type": "code",
   "execution_count": 32,
   "id": "48363862",
   "metadata": {},
   "outputs": [
    {
     "data": {
      "text/plain": [
       "['code_heide.tif',\n",
       " 'code_natgru.tif',\n",
       " 'code_noveg.tif',\n",
       " 'code_obst.tif',\n",
       " 'code_seemee.tif',\n",
       " 'code_spfr.tif',\n",
       " 'code_stoer.tif',\n",
       " 'code_wald.tif',\n",
       " 'neighborhood']"
      ]
     },
     "execution_count": 32,
     "metadata": {},
     "output_type": "execute_result"
    }
   ],
   "source": [
    "os.listdir(CLC_coverage_DE_dir)"
   ]
  },
  {
   "cell_type": "code",
   "execution_count": 10,
   "id": "02597df2-ade3-4912-8a4c-8263ea0de2ab",
   "metadata": {},
   "outputs": [],
   "source": [
    "zone_dict = {\n",
    "    DEM_DE_range                           : [\"zone1_2\", \"zone3_4\"], \n",
    "    CLC_coverage_DE_dir / \"code_obst.tif\"  : [\"zone1_4\"], \n",
    "    CLC_coverage_DE_dir / \"code_wald.tif\"  : [\"zone1_4\"],\n",
    "    CLC_coverage_DE_dir / \"code_natgru.tif\": [\"zone2\"], \n",
    "    CLC_coverage_DE_dir / \"code_acker.tif\" : [\"zone1_4\"], \n",
    "    CLC_coverage_DE_dir / \"code_stoer.tif\" : [\"zone2\", \"zone3\"], \n",
    "    CLC_coverage_DE_dir / \"code_noveg.tif\" : [\"zone2\"], \n",
    "    windpower_DE_raster                    : [\"zone1_4\"], \n",
    "    streets_DE_raster                      : [\"zone1_2\"]    \n",
    "}"
   ]
  },
  {
   "cell_type": "code",
   "execution_count": 21,
   "id": "f947097d",
   "metadata": {},
   "outputs": [
    {
     "data": {
      "text/plain": [
       "array([[0, 0, 0, 0, 1, 0, 0, 0, 0],\n",
       "       [0, 0, 1, 1, 1, 1, 1, 0, 0],\n",
       "       [0, 1, 1, 1, 1, 1, 1, 1, 0],\n",
       "       [0, 1, 1, 1, 1, 1, 1, 1, 0],\n",
       "       [1, 1, 1, 1, 1, 1, 1, 1, 1],\n",
       "       [0, 1, 1, 1, 1, 1, 1, 1, 0],\n",
       "       [0, 1, 1, 1, 1, 1, 1, 1, 0],\n",
       "       [0, 0, 1, 1, 1, 1, 1, 0, 0],\n",
       "       [0, 0, 0, 0, 1, 0, 0, 0, 0]])"
      ]
     },
     "execution_count": 21,
     "metadata": {},
     "output_type": "execute_result"
    }
   ],
   "source": [
    "def create_circular_disc(circle_radius:int, overall_size:int) -> np.ndarray  :\n",
    "# create a 0/1 array of size 2*overall_size +1 with an approximate circle of 1s in the middle, with radius circle_radius\n",
    "\n",
    "    size = 2 * overall_size + 1  # Compute the matrix size based on the overall size\n",
    "    disc = np.zeros((size, size), dtype=int)  # Initialize a zero matrix\n",
    "\n",
    "    center = overall_size  # The center of the disc\n",
    "    for y in range(size):\n",
    "        for x in range(size):\n",
    "            # Calculate the Euclidean distance from the center\n",
    "            if np.sqrt((x - center) ** 2 + (y - center) ** 2) <= circle_radius:\n",
    "                disc[y, x] = 1\n",
    "\n",
    "    return disc\n",
    "\n",
    "#example\n",
    "create_circular_disc(4, 4)"
   ]
  },
  {
   "cell_type": "code",
   "execution_count": 20,
   "id": "eb917f3d",
   "metadata": {},
   "outputs": [],
   "source": [
    "def get_zone_mean(data:np.ndarray, na_value:float, kernel:np.ndarray) -> np.ndarray:\n",
    "    #apply a filter with a given kernel to a 2d array and return the mean value for each element of the data array\n",
    "    kernel = kernel.astype(float)\n",
    "    kernel /= kernel.sum()\n",
    "\n",
    "    data_filled = np.where(data == na_value, 0, data)\n",
    "    # Perform the convolution\n",
    "    convolved_sum = convolve2d(data_filled, kernel, mode='valid')\n",
    "    return convolved_sum"
   ]
  },
  {
   "cell_type": "code",
   "execution_count": 25,
   "id": "cf4a32d3-3e6a-4dab-823c-b869931c9ae2",
   "metadata": {},
   "outputs": [],
   "source": [
    "def modify_filename(file_path:str, add_string:str, new_folder:str) -> str:\n",
    "    # Split the filename and the extension\n",
    "    base, extension = os.path.splitext(file_path)\n",
    "\n",
    "    # Get directory and basename\n",
    "    dir_name, base_name = os.path.split(base)\n",
    "\n",
    "    # Add the string to the basename\n",
    "    new_base_name = f\"{base_name}_{add_string}\"\n",
    "\n",
    "    # Construct the new path\n",
    "    new_full_path = os.path.join(dir_name, new_folder, new_base_name + extension)\n",
    "\n",
    "    # Ensure the directory exists\n",
    "    new_directory = os.path.dirname(new_full_path)\n",
    "    os.makedirs(new_directory, exist_ok=True)\n",
    "\n",
    "    return new_full_path"
   ]
  },
  {
   "cell_type": "code",
   "execution_count": 26,
   "id": "c257ab9f",
   "metadata": {},
   "outputs": [],
   "source": [
    "# Create the circular disc\n",
    "def write_specific_zone_mean(input_dict:str) -> None:\n",
    "    overall_radius = 10\n",
    "    zone_kernels = {\n",
    "    \"zone4\" : create_circular_disc(9.9, overall_radius) - create_circular_disc(4.9, overall_radius),\n",
    "    \"zone3\" : create_circular_disc(4.9, 5) - create_circular_disc(1.9, 5),\n",
    "    \"zone2\" : create_circular_disc(1.9, 2) - create_circular_disc(0.9, 2),\n",
    "    \"zone1_4\" : create_circular_disc(9.9, overall_radius),\n",
    "    \"zone1_2\" : create_circular_disc(1.9, 2),\n",
    "    \"zone3_4\" : create_circular_disc(9.9, overall_radius) - create_circular_disc(1.9, overall_radius)\n",
    "    }\n",
    "    \n",
    "    for input_path, zone_names in input_dict.items():\n",
    "        \n",
    "        with rasterio.open(input_path) as raster_in:\n",
    "            for zone_name in zone_names:\n",
    "                kernel = zone_kernels[zone_name]\n",
    "                meta = raster_in.meta.copy()\n",
    "                na_value = raster_in.nodata\n",
    "                array_in = raster_in.read(1)  # Reading the first band\n",
    "    \n",
    "                # Define the output path within the new directory\n",
    "                output_path = modify_filename(input_path, zone_name, 'neighborhood')\n",
    "\n",
    "                if os.path.exists(output_path):\n",
    "                    print(f\"{output_path} already exists skipping...\")\n",
    "                    continue\n",
    "    \n",
    "                print(output_path)\n",
    "                output_array = get_zone_mean(array_in, na_value, kernel)\n",
    "        \n",
    "                # Create a new raster file for output\n",
    "                meta.update(dtype=rasterio.float32, count=1)  # Update meta if necessary\n",
    "        \n",
    "                with rasterio.open(output_path, 'w', **meta) as raster_out:\n",
    "                    raster_out.write(output_array, 1)  # Write output array to the first band"
   ]
  },
  {
   "cell_type": "code",
   "execution_count": 30,
   "id": "f0e99adb-d843-46d9-a2dc-63220a8f8a9a",
   "metadata": {},
   "outputs": [
    {
     "name": "stdout",
     "output_type": "stream",
     "text": [
      "/media/sf_Granular/beauty/data/cleaned/dem/neighborhood/DEM_DE_range_zone1_2.tif\n",
      "/media/sf_Granular/beauty/data/cleaned/dem/neighborhood/DEM_DE_range_zone3_4.tif\n",
      "/media/sf_Granular/beauty/data/cleaned/clc/layer_coverage_DE/neighborhood/code_obst_zone1_4.tif\n",
      "/media/sf_Granular/beauty/data/cleaned/clc/layer_coverage_DE/neighborhood/code_wald_zone1_4.tif\n",
      "/media/sf_Granular/beauty/data/cleaned/clc/layer_coverage_DE/neighborhood/code_natgru_zone2.tif\n"
     ]
    },
    {
     "ename": "RasterioIOError",
     "evalue": "/media/sf_Granular/beauty/data/cleaned/clc/layer_coverage_DE/code_acker.tif: No such file or directory",
     "output_type": "error",
     "traceback": [
      "\u001b[0;31m---------------------------------------------------------------------------\u001b[0m",
      "\u001b[0;31mCPLE_OpenFailedError\u001b[0m                      Traceback (most recent call last)",
      "File \u001b[0;32mrasterio/_base.pyx:310\u001b[0m, in \u001b[0;36mrasterio._base.DatasetBase.__init__\u001b[0;34m()\u001b[0m\n",
      "File \u001b[0;32mrasterio/_base.pyx:221\u001b[0m, in \u001b[0;36mrasterio._base.open_dataset\u001b[0;34m()\u001b[0m\n",
      "File \u001b[0;32mrasterio/_err.pyx:221\u001b[0m, in \u001b[0;36mrasterio._err.exc_wrap_pointer\u001b[0;34m()\u001b[0m\n",
      "\u001b[0;31mCPLE_OpenFailedError\u001b[0m: /media/sf_Granular/beauty/data/cleaned/clc/layer_coverage_DE/code_acker.tif: No such file or directory",
      "\nDuring handling of the above exception, another exception occurred:\n",
      "\u001b[0;31mRasterioIOError\u001b[0m                           Traceback (most recent call last)",
      "Cell \u001b[0;32mIn[30], line 1\u001b[0m\n\u001b[0;32m----> 1\u001b[0m \u001b[43mwrite_specific_zone_mean\u001b[49m\u001b[43m(\u001b[49m\u001b[43mzone_dict\u001b[49m\u001b[43m)\u001b[49m\n",
      "Cell \u001b[0;32mIn[26], line 15\u001b[0m, in \u001b[0;36mwrite_specific_zone_mean\u001b[0;34m(input_dict)\u001b[0m\n\u001b[1;32m      4\u001b[0m zone_kernels \u001b[38;5;241m=\u001b[39m {\n\u001b[1;32m      5\u001b[0m \u001b[38;5;124m\"\u001b[39m\u001b[38;5;124mzone4\u001b[39m\u001b[38;5;124m\"\u001b[39m : create_circular_disc(\u001b[38;5;241m9.9\u001b[39m, overall_radius) \u001b[38;5;241m-\u001b[39m create_circular_disc(\u001b[38;5;241m4.9\u001b[39m, overall_radius),\n\u001b[1;32m      6\u001b[0m \u001b[38;5;124m\"\u001b[39m\u001b[38;5;124mzone3\u001b[39m\u001b[38;5;124m\"\u001b[39m : create_circular_disc(\u001b[38;5;241m4.9\u001b[39m, \u001b[38;5;241m5\u001b[39m) \u001b[38;5;241m-\u001b[39m create_circular_disc(\u001b[38;5;241m1.9\u001b[39m, \u001b[38;5;241m5\u001b[39m),\n\u001b[0;32m   (...)\u001b[0m\n\u001b[1;32m     10\u001b[0m \u001b[38;5;124m\"\u001b[39m\u001b[38;5;124mzone3_4\u001b[39m\u001b[38;5;124m\"\u001b[39m : create_circular_disc(\u001b[38;5;241m9.9\u001b[39m, overall_radius) \u001b[38;5;241m-\u001b[39m create_circular_disc(\u001b[38;5;241m1.9\u001b[39m, overall_radius)\n\u001b[1;32m     11\u001b[0m }\n\u001b[1;32m     13\u001b[0m \u001b[38;5;28;01mfor\u001b[39;00m input_path, zone_names \u001b[38;5;129;01min\u001b[39;00m input_dict\u001b[38;5;241m.\u001b[39mitems():\n\u001b[0;32m---> 15\u001b[0m     \u001b[38;5;28;01mwith\u001b[39;00m \u001b[43mrasterio\u001b[49m\u001b[38;5;241;43m.\u001b[39;49m\u001b[43mopen\u001b[49m\u001b[43m(\u001b[49m\u001b[43minput_path\u001b[49m\u001b[43m)\u001b[49m \u001b[38;5;28;01mas\u001b[39;00m raster_in:\n\u001b[1;32m     16\u001b[0m         \u001b[38;5;28;01mfor\u001b[39;00m zone_name \u001b[38;5;129;01min\u001b[39;00m zone_names:\n\u001b[1;32m     17\u001b[0m             kernel \u001b[38;5;241m=\u001b[39m zone_kernels[zone_name]\n",
      "File \u001b[0;32m~/venvs/beauty_venv/lib/python3.10/site-packages/rasterio/env.py:451\u001b[0m, in \u001b[0;36mensure_env_with_credentials.<locals>.wrapper\u001b[0;34m(*args, **kwds)\u001b[0m\n\u001b[1;32m    448\u001b[0m     session \u001b[38;5;241m=\u001b[39m DummySession()\n\u001b[1;32m    450\u001b[0m \u001b[38;5;28;01mwith\u001b[39;00m env_ctor(session\u001b[38;5;241m=\u001b[39msession):\n\u001b[0;32m--> 451\u001b[0m     \u001b[38;5;28;01mreturn\u001b[39;00m \u001b[43mf\u001b[49m\u001b[43m(\u001b[49m\u001b[38;5;241;43m*\u001b[39;49m\u001b[43margs\u001b[49m\u001b[43m,\u001b[49m\u001b[43m \u001b[49m\u001b[38;5;241;43m*\u001b[39;49m\u001b[38;5;241;43m*\u001b[39;49m\u001b[43mkwds\u001b[49m\u001b[43m)\u001b[49m\n",
      "File \u001b[0;32m~/venvs/beauty_venv/lib/python3.10/site-packages/rasterio/__init__.py:304\u001b[0m, in \u001b[0;36mopen\u001b[0;34m(fp, mode, driver, width, height, count, crs, transform, dtype, nodata, sharing, **kwargs)\u001b[0m\n\u001b[1;32m    301\u001b[0m path \u001b[38;5;241m=\u001b[39m _parse_path(raw_dataset_path)\n\u001b[1;32m    303\u001b[0m \u001b[38;5;28;01mif\u001b[39;00m mode \u001b[38;5;241m==\u001b[39m \u001b[38;5;124m\"\u001b[39m\u001b[38;5;124mr\u001b[39m\u001b[38;5;124m\"\u001b[39m:\n\u001b[0;32m--> 304\u001b[0m     dataset \u001b[38;5;241m=\u001b[39m \u001b[43mDatasetReader\u001b[49m\u001b[43m(\u001b[49m\u001b[43mpath\u001b[49m\u001b[43m,\u001b[49m\u001b[43m \u001b[49m\u001b[43mdriver\u001b[49m\u001b[38;5;241;43m=\u001b[39;49m\u001b[43mdriver\u001b[49m\u001b[43m,\u001b[49m\u001b[43m \u001b[49m\u001b[43msharing\u001b[49m\u001b[38;5;241;43m=\u001b[39;49m\u001b[43msharing\u001b[49m\u001b[43m,\u001b[49m\u001b[43m \u001b[49m\u001b[38;5;241;43m*\u001b[39;49m\u001b[38;5;241;43m*\u001b[39;49m\u001b[43mkwargs\u001b[49m\u001b[43m)\u001b[49m\n\u001b[1;32m    305\u001b[0m \u001b[38;5;28;01melif\u001b[39;00m mode \u001b[38;5;241m==\u001b[39m \u001b[38;5;124m\"\u001b[39m\u001b[38;5;124mr+\u001b[39m\u001b[38;5;124m\"\u001b[39m:\n\u001b[1;32m    306\u001b[0m     dataset \u001b[38;5;241m=\u001b[39m get_writer_for_path(path, driver\u001b[38;5;241m=\u001b[39mdriver)(\n\u001b[1;32m    307\u001b[0m         path, mode, driver\u001b[38;5;241m=\u001b[39mdriver, sharing\u001b[38;5;241m=\u001b[39msharing, \u001b[38;5;241m*\u001b[39m\u001b[38;5;241m*\u001b[39mkwargs\n\u001b[1;32m    308\u001b[0m     )\n",
      "File \u001b[0;32mrasterio/_base.pyx:312\u001b[0m, in \u001b[0;36mrasterio._base.DatasetBase.__init__\u001b[0;34m()\u001b[0m\n",
      "\u001b[0;31mRasterioIOError\u001b[0m: /media/sf_Granular/beauty/data/cleaned/clc/layer_coverage_DE/code_acker.tif: No such file or directory"
     ]
    }
   ],
   "source": [
    "write_specific_zone_mean(zone_dict)"
   ]
  },
  {
   "cell_type": "code",
   "execution_count": null,
   "id": "2476cee3-4363-475a-b830-9be4aae58c90",
   "metadata": {},
   "outputs": [],
   "source": []
  }
 ],
 "metadata": {
  "kernelspec": {
   "display_name": "Python 3 (ipykernel)",
   "language": "python",
   "name": "python3"
  },
  "language_info": {
   "codemirror_mode": {
    "name": "ipython",
    "version": 3
   },
   "file_extension": ".py",
   "mimetype": "text/x-python",
   "name": "python",
   "nbconvert_exporter": "python",
   "pygments_lexer": "ipython3",
   "version": "3.10.12"
  }
 },
 "nbformat": 4,
 "nbformat_minor": 5
}
