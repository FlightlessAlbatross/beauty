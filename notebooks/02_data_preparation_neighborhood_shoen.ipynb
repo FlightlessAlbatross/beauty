{
 "cells": [
  {
   "cell_type": "code",
   "execution_count": 23,
   "id": "ebeab8a6",
   "metadata": {},
   "outputs": [],
   "source": [
    "import numpy as np\n",
    "from scipy.signal import convolve2d\n",
    "import rasterio\n",
    "import os\n",
    "from pathlib import Path"
   ]
  },
  {
   "cell_type": "markdown",
   "id": "b46b0e08",
   "metadata": {},
   "source": [
    "This notebook calculates neighborhood averages of the prepared datasets.\n",
    "\n",
    "Pixels in a circle 2,5 and 10 kilometer distance around each pixel are put into zone 2,3 and 4. Zone 1 is the pixel itself. \n",
    "The zones are exclusive, so zone 3 is only the pixels between 2 and 5 km distance. "
   ]
  },
  {
   "cell_type": "code",
   "execution_count": 22,
   "id": "9e9b024f",
   "metadata": {},
   "outputs": [],
   "source": [
    "from rural_beauty.config import CLC_coverage_EU_dir, DEM_EU_range, windpower_EU_raster, streets_EU_raster"
   ]
  },
  {
   "cell_type": "code",
   "execution_count": 32,
   "id": "48363862",
   "metadata": {},
   "outputs": [
    {
     "data": {
      "text/plain": [
       "['code_heide.tif',\n",
       " 'code_natgru.tif',\n",
       " 'code_noveg.tif',\n",
       " 'code_obst.tif',\n",
       " 'code_seemee.tif',\n",
       " 'code_spfr.tif',\n",
       " 'code_stoer.tif',\n",
       " 'code_wald.tif',\n",
       " 'neighborhood']"
      ]
     },
     "execution_count": 32,
     "metadata": {},
     "output_type": "execute_result"
    }
   ],
   "source": [
    "os.listdir(CLC_coverage_EU_dir)"
   ]
  },
  {
   "cell_type": "code",
   "execution_count": 10,
   "id": "02597df2-ade3-4912-8a4c-8263ea0de2ab",
   "metadata": {},
   "outputs": [],
   "source": [
    "zone_dict = {\n",
    "    DEM_EU_range                           : [\"zone1\", \"zone2\", \"zone3\",\"zone1_2\", \"zone3_4\"], \n",
    "    CLC_coverage_EU_dir / \"code_obst.tif\"  : [\"zone1_4\"], \n",
    "    CLC_coverage_EU_dir / \"code_wald.tif\"  : [\"zone1_4\"],\n",
    "    CLC_coverage_EU_dir / \"code_natgru.tif\": [\"zone2\", \"zone1_2\"], \n",
    "    CLC_coverage_EU_dir / \"code_acker.tif\" : [\"zone1_4\", \"zone1_2\"], \n",
    "    CLC_coverage_EU_dir / \"code_stoer.tif\" : [\"zone1_2\", \"zone2\", \"zone3\"], \n",
    "    CLC_coverage_EU_dir / \"code_noveg.tif\" : [\"zone2\"], \n",
    "    windpower_EU_raster                    : [\"zone1_4\"], \n",
    "    streets_EU_raster                      : [\"zone1_2\"], \n",
    "\n",
    "}"
   ]
  },
  {
   "cell_type": "code",
   "execution_count": 21,
   "id": "f947097d",
   "metadata": {},
   "outputs": [
    {
     "data": {
      "text/plain": [
       "array([[0, 0, 0, 0, 1, 0, 0, 0, 0],\n",
       "       [0, 0, 1, 1, 1, 1, 1, 0, 0],\n",
       "       [0, 1, 1, 1, 1, 1, 1, 1, 0],\n",
       "       [0, 1, 1, 1, 1, 1, 1, 1, 0],\n",
       "       [1, 1, 1, 1, 1, 1, 1, 1, 1],\n",
       "       [0, 1, 1, 1, 1, 1, 1, 1, 0],\n",
       "       [0, 1, 1, 1, 1, 1, 1, 1, 0],\n",
       "       [0, 0, 1, 1, 1, 1, 1, 0, 0],\n",
       "       [0, 0, 0, 0, 1, 0, 0, 0, 0]])"
      ]
     },
     "execution_count": 21,
     "metadata": {},
     "output_type": "execute_result"
    }
   ],
   "source": [
    "import numpy as np\n",
    "\n",
    "def create_circular_disc(circle_radius: int, overall_size: int) -> np.ndarray:\n",
    "    # Create a 0/1 array of size 2*overall_size + 1 with an approximate circle of 1s in the middle, with radius circle_radius\n",
    "    \n",
    "    size = 2 * overall_size + 1  # Compute the matrix size based on the overall size\n",
    "    disc = np.zeros((size, size), dtype=int)  # Initialize a zero matrix\n",
    "\n",
    "    center = overall_size  # The center of the disc\n",
    "    for y in range(size):\n",
    "        for x in range(size):\n",
    "            # Calculate the Euclidean distance from the center\n",
    "            if np.sqrt((x - center) ** 2 + (y - center) ** 2) <= circle_radius:\n",
    "                disc[y, x] = 1\n",
    "\n",
    "    return disc\n",
    "\n",
    "# Example usage\n",
    "print(create_circular_disc(4, 4))\n"
   ]
  },
  {
   "cell_type": "code",
   "execution_count": 20,
   "id": "eb917f3d",
   "metadata": {},
   "outputs": [],
   "source": [
    "def get_zone_mean(data:np.ndarray, na_value:float, kernel:np.ndarray) -> np.ndarray:\n",
    "    #apply a filter with a given kernel to a 2d array and return the mean value for each element of the data array\n",
    "    kernel = kernel.astype(float)\n",
    "    kernel /= kernel.sum()\n",
    "\n",
    "    data_filled = np.where(data == na_value, 0, data)\n",
    "    # Perform the convolution\n",
    "    convolved_sum = convolve2d(data_filled, kernel, mode='valid')\n",
    "    return convolved_sum"
   ]
  },
  {
   "cell_type": "code",
   "execution_count": 25,
   "id": "cf4a32d3-3e6a-4dab-823c-b869931c9ae2",
   "metadata": {},
   "outputs": [],
   "source": [
    "def modify_filename(file_path:str, add_string:str, new_folder:str) -> str:\n",
    "    # Split the filename and the extension\n",
    "    base, extension = os.path.splitext(file_path)\n",
    "\n",
    "    # Get directory and basename\n",
    "    dir_name, base_name = os.path.split(base)\n",
    "\n",
    "    # Add the string to the basename\n",
    "    new_base_name = f\"{base_name}_{add_string}\"\n",
    "\n",
    "    # Construct the new path\n",
    "    new_full_path = os.path.join(dir_name, new_folder, new_base_name + extension)\n",
    "\n",
    "    # Ensure the directory exists\n",
    "    new_directory = os.path.dirname(new_full_path)\n",
    "    os.makedirs(new_directory, exist_ok=True)\n",
    "\n",
    "    return new_full_path"
   ]
  },
  {
   "cell_type": "code",
   "execution_count": 26,
   "id": "c257ab9f",
   "metadata": {},
   "outputs": [],
   "source": [
    "# Create the circular disc\n",
    "def write_specific_zone_mean(input_dict:str) -> None:\n",
    "    overall_radius = 10\n",
    "    zone_kernels = {\n",
    "    \"zone4\" : create_circular_disc(9.9, overall_radius) - create_circular_disc(4.9, overall_radius),\n",
    "    \"zone3\" : create_circular_disc(4.9, 5) - create_circular_disc(1.9, 5),\n",
    "    \"zone2\" : create_circular_disc(1.9, 2) - create_circular_disc(0.9, 2),\n",
    "    \"zone1_4\" : create_circular_disc(9.9, overall_radius),\n",
    "    \"zone1_2\" : create_circular_disc(1.9, 2),\n",
    "    \"zone3_4\" : create_circular_disc(9.9, overall_radius) - create_circular_disc(1.9, overall_radius)\n",
    "    }\n",
    "    \n",
    "    for input_path, zone_names in input_dict.items():\n",
    "        \n",
    "        with rasterio.open(input_path) as raster_in:\n",
    "            for zone_name in zone_names:\n",
    "                kernel = zone_kernels[zone_name]\n",
    "                meta = raster_in.meta.copy()\n",
    "                na_value = raster_in.nodata\n",
    "                array_in = raster_in.read(1)  # Reading the first band\n",
    "    \n",
    "                # Define the output path within the new directory\n",
    "                output_path = modify_filename(input_path, zone_name, 'neighborhood')\n",
    "\n",
    "                if os.path.exists(output_path):\n",
    "                    print(f\"{output_path} already exists skipping...\")\n",
    "                    continue\n",
    "    \n",
    "                print(output_path)\n",
    "                output_array = get_zone_mean(array_in, na_value, kernel)\n",
    "        \n",
    "                # Create a new raster file for output\n",
    "                meta.update(dtype=rasterio.float32, count=1)  # Update meta if necessary\n",
    "        \n",
    "                with rasterio.open(output_path, 'w', **meta) as raster_out:\n",
    "                    raster_out.write(output_array, 1)  # Write output array to the first band"
   ]
  },
  {
   "cell_type": "code",
   "execution_count": 12,
   "id": "f0e99adb-d843-46d9-a2dc-63220a8f8a9a",
   "metadata": {},
   "outputs": [
    {
     "name": "stdout",
     "output_type": "stream",
     "text": [
      "/media/sf_Granular/beauty/data/cleaned/dem/neighborhood/DEM_DE_range_zone1_2.tif already exists skipping...\n",
      "/media/sf_Granular/beauty/data/cleaned/dem/neighborhood/DEM_DE_range_zone3_4.tif already exists skipping...\n",
      "/media/sf_Granular/beauty/data/cleaned/clc/layer_coverage_DE/neighborhood/code_obst_zone1_4.tif already exists skipping...\n",
      "/media/sf_Granular/beauty/data/cleaned/clc/layer_coverage_DE/neighborhood/code_wald_zone1_4.tif already exists skipping...\n",
      "/media/sf_Granular/beauty/data/cleaned/clc/layer_coverage_DE/neighborhood/code_natgru_zone2.tif already exists skipping...\n",
      "/media/sf_Granular/beauty/data/cleaned/clc/layer_coverage_DE/neighborhood/code_acker_zone1_4.tif already exists skipping...\n",
      "/media/sf_Granular/beauty/data/cleaned/clc/layer_coverage_DE/neighborhood/code_stoer_zone2.tif already exists skipping...\n",
      "/media/sf_Granular/beauty/data/cleaned/clc/layer_coverage_DE/neighborhood/code_stoer_zone3.tif already exists skipping...\n",
      "/media/sf_Granular/beauty/data/cleaned/clc/layer_coverage_DE/neighborhood/code_noveg_zone2.tif already exists skipping...\n",
      "/media/sf_Granular/beauty/data/cleaned/osm/neighborhood/freq_windpowerplants_DE_4647_zone1_4.tif already exists skipping...\n",
      "/media/sf_Granular/beauty/data/cleaned/osm/neighborhood/len_streets_DE_4647_zone1_2.tif already exists skipping...\n"
     ]
    }
   ],
   "source": [
    "write_specific_zone_mean(zone_dict)"
   ]
  },
  {
   "cell_type": "code",
   "execution_count": null,
   "id": "2476cee3-4363-475a-b830-9be4aae58c90",
   "metadata": {},
   "outputs": [],
   "source": []
  }
 ],
 "metadata": {
  "kernelspec": {
   "display_name": "Python 3 (ipykernel)",
   "language": "python",
   "name": "python3"
  },
  "language_info": {
   "codemirror_mode": {
    "name": "ipython",
    "version": 3
   },
   "file_extension": ".py",
   "mimetype": "text/x-python",
   "name": "python",
   "nbconvert_exporter": "python",
   "pygments_lexer": "ipython3",
   "version": "3.10.12"
  }
 },
 "nbformat": 4,
 "nbformat_minor": 5
}
