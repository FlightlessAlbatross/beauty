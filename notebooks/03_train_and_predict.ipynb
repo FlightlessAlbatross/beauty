{
 "cells": [
  {
   "cell_type": "markdown",
   "metadata": {},
   "source": [
    "This notebook shows how to call the main python functions to extract data for training, model training and predict a tif. "
   ]
  },
  {
   "cell_type": "code",
   "execution_count": null,
   "metadata": {},
   "outputs": [],
   "source": [
    "from rural_beauty.config import models_dir\n",
    "import pathlib\n",
    "\n",
    "from rural_beauty import get_data_for_training # the function to create model data frames\n",
    "from rural_beauty import training_model        # the function to train a tree model\n",
    "from rural_beauty import predict_generic       # the function to predict a tif based on the model"
   ]
  },
  {
   "cell_type": "code",
   "execution_count": null,
   "metadata": {},
   "outputs": [],
   "source": [
    "# parameters for data generation\n",
    "country = 'DE'\n",
    "target_variable = 'beauty'\n",
    "sampling_method = 'random_pixels' # extracting all_pixels will take a long time. 60+ min on the IIASA VM101 server. \n",
    "\n",
    "\n",
    "# this is for training the model\n",
    "model_class      = 'XGB'\n",
    "class_balance    = 'asis'\n",
    "number_classes   = 7\n",
    "sugar            = str(number_classes) + '_'+ '021224'\n",
    "\n"
   ]
  },
  {
   "cell_type": "code",
   "execution_count": 8,
   "metadata": {},
   "outputs": [
    {
     "name": "stdout",
     "output_type": "stream",
     "text": [
      "All files exist\n",
      "Coordinate file written to /h/u145/hofer/MyDocuments/Granular/beauty/data/models/__extracted_points/DE/beauty/all_pixels/coords.csv\n",
      "Outcome file written to /h/u145/hofer/MyDocuments/Granular/beauty/data/models/__extracted_points/DE/beauty/all_pixels/outcome.csv\n",
      "Predictors file written to /h/u145/hofer/MyDocuments/Granular/beauty/data/models/__extracted_points/DE/beauty/all_pixels/predictors.csv\n",
      "Feature path json written to /h/u145/hofer/MyDocuments/Granular/beauty/data/models/__extracted_points/DE/beauty/all_pixels/feature_paths.json\n"
     ]
    }
   ],
   "source": [
    "get_data_for_training.main(country=country, target_variable =  target_variable, sampling_method=sampling_method)"
   ]
  },
  {
   "cell_type": "code",
   "execution_count": 11,
   "metadata": {},
   "outputs": [
    {
     "name": "stdout",
     "output_type": "stream",
     "text": [
      "Model Accuracy:      0.84\n",
      "Model F1:            0.83\n",
      "Model Kendall's Tau: 0.88\n",
      "Confusion matrix saved to: /h/u145/hofer/MyDocuments/Granular/beauty/data/models/DE__beauty__all_pixels__XGB__asis__7_021224/confusion_matrix.png\n"
     ]
    },
    {
     "data": {
      "text/plain": [
       "<Figure size 800x600 with 0 Axes>"
      ]
     },
     "metadata": {},
     "output_type": "display_data"
    }
   ],
   "source": [
    "training_model.main(country          = country,\n",
    "                    target_variable  = target_variable,\n",
    "                    model_class      = model_class,\n",
    "                    sampling_method  = sampling_method,\n",
    "                    class_balance    = class_balance,\n",
    "                    number_classes   = number_classes,\n",
    "                    sugar            = sugar)"
   ]
  },
  {
   "cell_type": "code",
   "execution_count": null,
   "metadata": {},
   "outputs": [],
   "source": [
    "# the prediction function takes a model folder (as crated by the training function)\n",
    "model_basename = f\"{country}__{target_variable}__{sampling_method}__{model_class}__{class_balance}__{sugar}\" # instead use something like \"__\".join(**kargs)\n",
    "model_folder   = models_dir / model_basename\n",
    "\n",
    "predict_generic.main(model_folder)"
   ]
  }
 ],
 "metadata": {
  "kernelspec": {
   "display_name": ".venv",
   "language": "python",
   "name": "python3"
  },
  "language_info": {
   "codemirror_mode": {
    "name": "ipython",
    "version": 3
   },
   "file_extension": ".py",
   "mimetype": "text/x-python",
   "name": "python",
   "nbconvert_exporter": "python",
   "pygments_lexer": "ipython3",
   "version": "3.10.12"
  }
 },
 "nbformat": 4,
 "nbformat_minor": 2
}
