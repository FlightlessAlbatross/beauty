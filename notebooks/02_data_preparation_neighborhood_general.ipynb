{
 "cells": [
  {
   "cell_type": "code",
   "execution_count": 1,
   "id": "ebeab8a6",
   "metadata": {},
   "outputs": [],
   "source": [
    "import numpy as np\n",
    "import rasterio\n",
    "import os\n",
    "from pathlib import Path"
   ]
  },
  {
   "cell_type": "markdown",
   "id": "b46b0e08",
   "metadata": {},
   "source": [
    "This notebook calculates neighborhood averages of the prepared datasets.\n",
    "\n",
    "Pixels in a circle 2,5 and 10 kilometer distance around each pixel are put into zone 2,3 and 4. Zone 1 is the pixel itself. \n",
    "The zones are exclusive, so zone 3 is only the pixels between 2 and 5 km distance. "
   ]
  },
  {
   "cell_type": "code",
   "execution_count": 2,
   "id": "9e9b024f",
   "metadata": {},
   "outputs": [
    {
     "name": "stdout",
     "output_type": "stream",
     "text": [
      "This is the rural_beauty module\n"
     ]
    }
   ],
   "source": [
    "# import paths. \n",
    "from rural_beauty.config import CLC_coverage_EU_dir, DEM_EU_range_scaled, windpower_EU_raster_scaled, streets_EU_raster_scaled, protected_raster_scaled"
   ]
  },
  {
   "cell_type": "code",
   "execution_count": 3,
   "id": "744954f0",
   "metadata": {},
   "outputs": [
    {
     "data": {
      "text/plain": [
       "array([[0, 0, 0, 0, 0, 0, 0, 0, 0, 0, 0, 0, 0],\n",
       "       [0, 0, 0, 0, 0, 0, 1, 0, 0, 0, 0, 0, 0],\n",
       "       [0, 0, 0, 1, 1, 1, 1, 1, 1, 1, 0, 0, 0],\n",
       "       [0, 0, 1, 1, 1, 1, 1, 1, 1, 1, 1, 0, 0],\n",
       "       [0, 0, 1, 1, 1, 1, 1, 1, 1, 1, 1, 0, 0],\n",
       "       [0, 0, 1, 1, 1, 1, 1, 1, 1, 1, 1, 0, 0],\n",
       "       [0, 1, 1, 1, 1, 1, 1, 1, 1, 1, 1, 1, 0],\n",
       "       [0, 0, 1, 1, 1, 1, 1, 1, 1, 1, 1, 0, 0],\n",
       "       [0, 0, 1, 1, 1, 1, 1, 1, 1, 1, 1, 0, 0],\n",
       "       [0, 0, 1, 1, 1, 1, 1, 1, 1, 1, 1, 0, 0],\n",
       "       [0, 0, 0, 1, 1, 1, 1, 1, 1, 1, 0, 0, 0],\n",
       "       [0, 0, 0, 0, 0, 0, 1, 0, 0, 0, 0, 0, 0],\n",
       "       [0, 0, 0, 0, 0, 0, 0, 0, 0, 0, 0, 0, 0]])"
      ]
     },
     "execution_count": 3,
     "metadata": {},
     "output_type": "execute_result"
    }
   ],
   "source": [
    "# import functions create_circular_disc and get_zone_mean\n",
    "from rural_beauty import blur_circular_disc\n",
    "blur_circular_disc.create_circular_disc(5, 6)"
   ]
  },
  {
   "cell_type": "code",
   "execution_count": 4,
   "id": "48363862",
   "metadata": {},
   "outputs": [
    {
     "name": "stdout",
     "output_type": "stream",
     "text": [
      "There are 47 layers in /h/u145/hofer/MyDocuments/Granular/beauty/data/cleaned/clc/layer_coverage_EU\n",
      "['code_offen.tif', 'code_abbau.tif', 'code_salzw.tif', 'code_landwi.tif', 'code_hafen.tif', 'code_bebau.tif', 'code_kraut.tif', 'code_feucht.tif', 'code_spfr.tif', 'code_stoer.tif', 'code_natur.tif', 'code_strbah.tif', 'code_stgrue.tif', 'code_weide.tif', 'code_stadt.tif', 'code_sand.tif', 'code_nwald.tif', 'code_acker.tif', 'code_suempf.tif', 'code_gewage.tif', 'code_selten.tif', 'code_wanat.tif', 'code_gezei.tif', 'code_flug.tif', 'code_fels.tif', 'code_obswei.tif', 'code_gwlf.tif', 'code_lwald.tif', 'code_siedl.tif', 'code_seemee.tif', 'code_schatt.tif', 'code_natgru.tif', 'code_seen.tif', 'code_noveg.tif', 'code_wein.tif', 'code_wald.tif', 'code_geholz.tif', 'code_strauc.tif', 'code_moor.tif', 'code_dorf.tif', 'code_indgew.tif', 'code_gewae.tif', 'code_obst.tif', 'code_heide.tif', 'code_mwald.tif', 'code_meer.tif', 'code_semage.tif']\n"
     ]
    }
   ],
   "source": [
    "layers = [item for item in  os.listdir(CLC_coverage_EU_dir) if item.endswith('.tif')]\n",
    "print(f\"There are {len(layers)} layers in {CLC_coverage_EU_dir}\")\n",
    "print(layers)"
   ]
  },
  {
   "cell_type": "code",
   "execution_count": null,
   "id": "02597df2-ade3-4912-8a4c-8263ea0de2ab",
   "metadata": {},
   "outputs": [],
   "source": [
    "# these zones were significant for the reference German model. \n",
    "zone_dict = {\n",
    "    DEM_EU_range_scaled                    : [\"zone2\", \"zone3\",\"zone1_2\", \"zone3_4\"], \n",
    "    CLC_coverage_EU_dir / \"code_obst.tif\"  : [\"zone1_4\"], \n",
    "    CLC_coverage_EU_dir / \"code_wald.tif\"  : [\"zone1_4\"],\n",
    "    CLC_coverage_EU_dir / \"code_natgru.tif\": [\"zone2\", \"zone1_2\"], \n",
    "    CLC_coverage_EU_dir / \"code_acker.tif\" : [\"zone1_4\", \"zone1_2\"], \n",
    "    CLC_coverage_EU_dir / \"code_stoer.tif\" : [\"zone1_2\", \"zone2\", \"zone3\"], \n",
    "    CLC_coverage_EU_dir / \"code_noveg.tif\" : [\"zone2\"], \n",
    "    windpower_EU_raster_scaled             : [\"zone1_4\"], \n",
    "    streets_EU_raster_scaled               : [\"zone1_2\"], \n",
    "    protected_raster_scaled                : [\"zone2\", \"zone3\"]          \n",
    "\n",
    "}"
   ]
  },
  {
   "cell_type": "code",
   "execution_count": null,
   "id": "2015637a",
   "metadata": {},
   "outputs": [
    {
     "data": {
      "text/plain": [
       "{PosixPath('/h/u145/hofer/MyDocuments/Granular/beauty/data/cleaned/dem/DEM_EU_range_scaled.tif'): ['zone2',\n",
       "  'zone3',\n",
       "  'zone1_2',\n",
       "  'zone3_4'],\n",
       " PosixPath('/h/u145/hofer/MyDocuments/Granular/beauty/data/cleaned/clc/layer_coverage_EU/code_obst.tif'): ['zone1_4',\n",
       "  'zone3',\n",
       "  'zone2'],\n",
       " PosixPath('/h/u145/hofer/MyDocuments/Granular/beauty/data/cleaned/clc/layer_coverage_EU/code_wald.tif'): ['zone1_4',\n",
       "  'zone3',\n",
       "  'zone2'],\n",
       " PosixPath('/h/u145/hofer/MyDocuments/Granular/beauty/data/cleaned/clc/layer_coverage_EU/code_natgru.tif'): ['zone1_2',\n",
       "  'zone3',\n",
       "  'zone2'],\n",
       " PosixPath('/h/u145/hofer/MyDocuments/Granular/beauty/data/cleaned/clc/layer_coverage_EU/code_acker.tif'): ['zone1_4',\n",
       "  'zone3',\n",
       "  'zone1_2',\n",
       "  'zone2'],\n",
       " PosixPath('/h/u145/hofer/MyDocuments/Granular/beauty/data/cleaned/clc/layer_coverage_EU/code_stoer.tif'): ['zone1_2',\n",
       "  'zone3',\n",
       "  'zone2'],\n",
       " PosixPath('/h/u145/hofer/MyDocuments/Granular/beauty/data/cleaned/clc/layer_coverage_EU/code_noveg.tif'): ['zone3',\n",
       "  'zone2'],\n",
       " PosixPath('/h/u145/hofer/MyDocuments/Granular/beauty/data/cleaned/osm/freq_scaled_windpowerplants_EU_4647.tif'): ['zone1_4'],\n",
       " PosixPath('/h/u145/hofer/MyDocuments/Granular/beauty/data/cleaned/osm/len_scaled_streets_EU_4647.tif'): ['zone1_2'],\n",
       " PosixPath('/h/u145/hofer/MyDocuments/Granular/beauty/data/cleaned/protected/WDPA_area_scaled.tif'): ['zone2',\n",
       "  'zone3'],\n",
       " PosixPath('/h/u145/hofer/MyDocuments/Granular/beauty/data/cleaned/clc/layer_coverage_EU/code_offen.tif'): ['zone2',\n",
       "  'zone3'],\n",
       " PosixPath('/h/u145/hofer/MyDocuments/Granular/beauty/data/cleaned/clc/layer_coverage_EU/code_abbau.tif'): ['zone2',\n",
       "  'zone3'],\n",
       " PosixPath('/h/u145/hofer/MyDocuments/Granular/beauty/data/cleaned/clc/layer_coverage_EU/code_salzw.tif'): ['zone2',\n",
       "  'zone3'],\n",
       " PosixPath('/h/u145/hofer/MyDocuments/Granular/beauty/data/cleaned/clc/layer_coverage_EU/code_landwi.tif'): ['zone2',\n",
       "  'zone3'],\n",
       " PosixPath('/h/u145/hofer/MyDocuments/Granular/beauty/data/cleaned/clc/layer_coverage_EU/code_hafen.tif'): ['zone2',\n",
       "  'zone3'],\n",
       " PosixPath('/h/u145/hofer/MyDocuments/Granular/beauty/data/cleaned/clc/layer_coverage_EU/code_bebau.tif'): ['zone2',\n",
       "  'zone3'],\n",
       " PosixPath('/h/u145/hofer/MyDocuments/Granular/beauty/data/cleaned/clc/layer_coverage_EU/code_kraut.tif'): ['zone2',\n",
       "  'zone3'],\n",
       " PosixPath('/h/u145/hofer/MyDocuments/Granular/beauty/data/cleaned/clc/layer_coverage_EU/code_feucht.tif'): ['zone2',\n",
       "  'zone3'],\n",
       " PosixPath('/h/u145/hofer/MyDocuments/Granular/beauty/data/cleaned/clc/layer_coverage_EU/code_spfr.tif'): ['zone2',\n",
       "  'zone3'],\n",
       " PosixPath('/h/u145/hofer/MyDocuments/Granular/beauty/data/cleaned/clc/layer_coverage_EU/code_natur.tif'): ['zone2',\n",
       "  'zone3'],\n",
       " PosixPath('/h/u145/hofer/MyDocuments/Granular/beauty/data/cleaned/clc/layer_coverage_EU/code_strbah.tif'): ['zone2',\n",
       "  'zone3'],\n",
       " PosixPath('/h/u145/hofer/MyDocuments/Granular/beauty/data/cleaned/clc/layer_coverage_EU/code_stgrue.tif'): ['zone2',\n",
       "  'zone3'],\n",
       " PosixPath('/h/u145/hofer/MyDocuments/Granular/beauty/data/cleaned/clc/layer_coverage_EU/code_weide.tif'): ['zone2',\n",
       "  'zone3'],\n",
       " PosixPath('/h/u145/hofer/MyDocuments/Granular/beauty/data/cleaned/clc/layer_coverage_EU/code_stadt.tif'): ['zone2',\n",
       "  'zone3'],\n",
       " PosixPath('/h/u145/hofer/MyDocuments/Granular/beauty/data/cleaned/clc/layer_coverage_EU/code_sand.tif'): ['zone2',\n",
       "  'zone3'],\n",
       " PosixPath('/h/u145/hofer/MyDocuments/Granular/beauty/data/cleaned/clc/layer_coverage_EU/code_nwald.tif'): ['zone2',\n",
       "  'zone3'],\n",
       " PosixPath('/h/u145/hofer/MyDocuments/Granular/beauty/data/cleaned/clc/layer_coverage_EU/code_suempf.tif'): ['zone2',\n",
       "  'zone3'],\n",
       " PosixPath('/h/u145/hofer/MyDocuments/Granular/beauty/data/cleaned/clc/layer_coverage_EU/code_gewage.tif'): ['zone2',\n",
       "  'zone3'],\n",
       " PosixPath('/h/u145/hofer/MyDocuments/Granular/beauty/data/cleaned/clc/layer_coverage_EU/code_selten.tif'): ['zone2',\n",
       "  'zone3'],\n",
       " PosixPath('/h/u145/hofer/MyDocuments/Granular/beauty/data/cleaned/clc/layer_coverage_EU/code_wanat.tif'): ['zone2',\n",
       "  'zone3'],\n",
       " PosixPath('/h/u145/hofer/MyDocuments/Granular/beauty/data/cleaned/clc/layer_coverage_EU/code_gezei.tif'): ['zone2',\n",
       "  'zone3'],\n",
       " PosixPath('/h/u145/hofer/MyDocuments/Granular/beauty/data/cleaned/clc/layer_coverage_EU/code_flug.tif'): ['zone2',\n",
       "  'zone3'],\n",
       " PosixPath('/h/u145/hofer/MyDocuments/Granular/beauty/data/cleaned/clc/layer_coverage_EU/code_fels.tif'): ['zone2',\n",
       "  'zone3'],\n",
       " PosixPath('/h/u145/hofer/MyDocuments/Granular/beauty/data/cleaned/clc/layer_coverage_EU/code_obswei.tif'): ['zone2',\n",
       "  'zone3'],\n",
       " PosixPath('/h/u145/hofer/MyDocuments/Granular/beauty/data/cleaned/clc/layer_coverage_EU/code_gwlf.tif'): ['zone2',\n",
       "  'zone3'],\n",
       " PosixPath('/h/u145/hofer/MyDocuments/Granular/beauty/data/cleaned/clc/layer_coverage_EU/code_lwald.tif'): ['zone2',\n",
       "  'zone3'],\n",
       " PosixPath('/h/u145/hofer/MyDocuments/Granular/beauty/data/cleaned/clc/layer_coverage_EU/code_siedl.tif'): ['zone2',\n",
       "  'zone3'],\n",
       " PosixPath('/h/u145/hofer/MyDocuments/Granular/beauty/data/cleaned/clc/layer_coverage_EU/code_seemee.tif'): ['zone2',\n",
       "  'zone3'],\n",
       " PosixPath('/h/u145/hofer/MyDocuments/Granular/beauty/data/cleaned/clc/layer_coverage_EU/code_schatt.tif'): ['zone2',\n",
       "  'zone3'],\n",
       " PosixPath('/h/u145/hofer/MyDocuments/Granular/beauty/data/cleaned/clc/layer_coverage_EU/code_seen.tif'): ['zone2',\n",
       "  'zone3'],\n",
       " PosixPath('/h/u145/hofer/MyDocuments/Granular/beauty/data/cleaned/clc/layer_coverage_EU/code_wein.tif'): ['zone2',\n",
       "  'zone3'],\n",
       " PosixPath('/h/u145/hofer/MyDocuments/Granular/beauty/data/cleaned/clc/layer_coverage_EU/code_geholz.tif'): ['zone2',\n",
       "  'zone3'],\n",
       " PosixPath('/h/u145/hofer/MyDocuments/Granular/beauty/data/cleaned/clc/layer_coverage_EU/code_strauc.tif'): ['zone2',\n",
       "  'zone3'],\n",
       " PosixPath('/h/u145/hofer/MyDocuments/Granular/beauty/data/cleaned/clc/layer_coverage_EU/code_moor.tif'): ['zone2',\n",
       "  'zone3'],\n",
       " PosixPath('/h/u145/hofer/MyDocuments/Granular/beauty/data/cleaned/clc/layer_coverage_EU/code_dorf.tif'): ['zone2',\n",
       "  'zone3'],\n",
       " PosixPath('/h/u145/hofer/MyDocuments/Granular/beauty/data/cleaned/clc/layer_coverage_EU/code_indgew.tif'): ['zone2',\n",
       "  'zone3'],\n",
       " PosixPath('/h/u145/hofer/MyDocuments/Granular/beauty/data/cleaned/clc/layer_coverage_EU/code_gewae.tif'): ['zone2',\n",
       "  'zone3'],\n",
       " PosixPath('/h/u145/hofer/MyDocuments/Granular/beauty/data/cleaned/clc/layer_coverage_EU/code_heide.tif'): ['zone2',\n",
       "  'zone3'],\n",
       " PosixPath('/h/u145/hofer/MyDocuments/Granular/beauty/data/cleaned/clc/layer_coverage_EU/code_mwald.tif'): ['zone2',\n",
       "  'zone3'],\n",
       " PosixPath('/h/u145/hofer/MyDocuments/Granular/beauty/data/cleaned/clc/layer_coverage_EU/code_meer.tif'): ['zone2',\n",
       "  'zone3'],\n",
       " PosixPath('/h/u145/hofer/MyDocuments/Granular/beauty/data/cleaned/clc/layer_coverage_EU/code_semage.tif'): ['zone2',\n",
       "  'zone3']}"
      ]
     },
     "execution_count": 6,
     "metadata": {},
     "output_type": "execute_result"
    }
   ],
   "source": [
    "# these are all additional neighborhood variable combinations. \n",
    "added_zones = [\"zone2\", \"zone3\"]\n",
    "\n",
    "for layer in layers:\n",
    "    entry = zone_dict.get(CLC_coverage_EU_dir / layer)\n",
    "    if entry is None:\n",
    "        zone_dict[CLC_coverage_EU_dir / layer] =  added_zones\n",
    "    else:\n",
    "        zone_dict[CLC_coverage_EU_dir / layer] = list(set(zone_dict[CLC_coverage_EU_dir / layer] + added_zones))\n",
    "\n",
    "zone_dict"
   ]
  },
  {
   "cell_type": "code",
   "execution_count": 7,
   "id": "cf4a32d3-3e6a-4dab-823c-b869931c9ae2",
   "metadata": {},
   "outputs": [],
   "source": [
    "def modify_filename(file_path:str, add_string:str, new_folder:str) -> str:\n",
    "    # Split the filename and the extension\n",
    "    base, extension = os.path.splitext(file_path)\n",
    "\n",
    "    # Get directory and basename\n",
    "    dir_name, base_name = os.path.split(base)\n",
    "\n",
    "    # Add the string to the basename\n",
    "    new_base_name = f\"{base_name}_{add_string}\"\n",
    "\n",
    "    # Construct the new path\n",
    "    new_full_path = os.path.join(dir_name, new_folder, new_base_name + extension)\n",
    "\n",
    "    # Ensure the directory exists\n",
    "    new_directory = os.path.dirname(new_full_path)\n",
    "    os.makedirs(new_directory, exist_ok=True)\n",
    "\n",
    "    return new_full_path"
   ]
  },
  {
   "cell_type": "code",
   "execution_count": 8,
   "id": "c257ab9f",
   "metadata": {},
   "outputs": [],
   "source": [
    "# Create the circular disc\n",
    "def write_specific_zone_mean(input_dict:str) -> None:\n",
    "    overall_radius = 10\n",
    "    zone_kernels = {\n",
    "    \"zone4\" : blur_circular_disc.create_circular_disc(9.9, overall_radius) - blur_circular_disc.create_circular_disc(4.9, overall_radius),\n",
    "    \"zone3\" : blur_circular_disc.create_circular_disc(4.9, 5) - blur_circular_disc.create_circular_disc(1.9, 5),\n",
    "    \"zone2\" : blur_circular_disc.create_circular_disc(1.9, 2) - blur_circular_disc.create_circular_disc(0.9, 2),\n",
    "    \"zone1_4\" : blur_circular_disc.create_circular_disc(9.9, overall_radius),\n",
    "    \"zone1_2\" : blur_circular_disc.create_circular_disc(1.9, 2),\n",
    "    \"zone3_4\" : blur_circular_disc.create_circular_disc(9.9, overall_radius) - blur_circular_disc.create_circular_disc(1.9, overall_radius)\n",
    "    }\n",
    "    \n",
    "    for input_path, zone_names in input_dict.items():\n",
    "        \n",
    "        with rasterio.open(input_path) as raster_in:\n",
    "            for zone_name in zone_names:\n",
    "                # Define the output path within the new directory\n",
    "                output_path = modify_filename(input_path, zone_name, 'neighborhood')\n",
    "\n",
    "                if zone_name == 'zone1':\n",
    "                    print(f\"Zone 1 is the same as input data. Skipped :{output_path}\")\n",
    "                    continue\n",
    "\n",
    "                kernel = zone_kernels[zone_name]\n",
    "                meta = raster_in.meta.copy()\n",
    "                na_value = raster_in.nodata\n",
    "                array_in = raster_in.read(1)  # Reading the first band\n",
    "    \n",
    "\n",
    "\n",
    "                if os.path.exists(output_path):\n",
    "                    print(f\"{output_path} already exists skipping...\")\n",
    "                    continue\n",
    "    \n",
    "                print(output_path)\n",
    "                output_array = blur_circular_disc.get_zone_mean(array_in, na_value, kernel)\n",
    "        \n",
    "                # Create a new raster file for output\n",
    "                meta.update(dtype=rasterio.float64, count=1)  # Update meta if necessary\n",
    "        \n",
    "                with rasterio.open(output_path, 'w', **meta) as raster_out:\n",
    "                    raster_out.write(output_array, 1)  # Write output array to the first band"
   ]
  },
  {
   "cell_type": "code",
   "execution_count": 9,
   "id": "f0e99adb-d843-46d9-a2dc-63220a8f8a9a",
   "metadata": {},
   "outputs": [
    {
     "name": "stdout",
     "output_type": "stream",
     "text": [
      "/h/u145/hofer/MyDocuments/Granular/beauty/data/cleaned/dem/neighborhood/DEM_EU_range_scaled_zone2.tif already exists skipping...\n",
      "/h/u145/hofer/MyDocuments/Granular/beauty/data/cleaned/dem/neighborhood/DEM_EU_range_scaled_zone3.tif already exists skipping...\n",
      "/h/u145/hofer/MyDocuments/Granular/beauty/data/cleaned/dem/neighborhood/DEM_EU_range_scaled_zone1_2.tif already exists skipping...\n",
      "/h/u145/hofer/MyDocuments/Granular/beauty/data/cleaned/dem/neighborhood/DEM_EU_range_scaled_zone3_4.tif already exists skipping...\n",
      "/h/u145/hofer/MyDocuments/Granular/beauty/data/cleaned/clc/layer_coverage_EU/neighborhood/code_obst_zone1_4.tif already exists skipping...\n",
      "/h/u145/hofer/MyDocuments/Granular/beauty/data/cleaned/clc/layer_coverage_EU/neighborhood/code_obst_zone3.tif already exists skipping...\n",
      "/h/u145/hofer/MyDocuments/Granular/beauty/data/cleaned/clc/layer_coverage_EU/neighborhood/code_obst_zone2.tif already exists skipping...\n",
      "/h/u145/hofer/MyDocuments/Granular/beauty/data/cleaned/clc/layer_coverage_EU/neighborhood/code_wald_zone1_4.tif already exists skipping...\n",
      "/h/u145/hofer/MyDocuments/Granular/beauty/data/cleaned/clc/layer_coverage_EU/neighborhood/code_wald_zone3.tif already exists skipping...\n",
      "/h/u145/hofer/MyDocuments/Granular/beauty/data/cleaned/clc/layer_coverage_EU/neighborhood/code_wald_zone2.tif already exists skipping...\n",
      "/h/u145/hofer/MyDocuments/Granular/beauty/data/cleaned/clc/layer_coverage_EU/neighborhood/code_natgru_zone1_2.tif already exists skipping...\n",
      "/h/u145/hofer/MyDocuments/Granular/beauty/data/cleaned/clc/layer_coverage_EU/neighborhood/code_natgru_zone3.tif already exists skipping...\n",
      "/h/u145/hofer/MyDocuments/Granular/beauty/data/cleaned/clc/layer_coverage_EU/neighborhood/code_natgru_zone2.tif already exists skipping...\n",
      "/h/u145/hofer/MyDocuments/Granular/beauty/data/cleaned/clc/layer_coverage_EU/neighborhood/code_acker_zone1_4.tif already exists skipping...\n",
      "/h/u145/hofer/MyDocuments/Granular/beauty/data/cleaned/clc/layer_coverage_EU/neighborhood/code_acker_zone3.tif already exists skipping...\n",
      "/h/u145/hofer/MyDocuments/Granular/beauty/data/cleaned/clc/layer_coverage_EU/neighborhood/code_acker_zone1_2.tif already exists skipping...\n",
      "/h/u145/hofer/MyDocuments/Granular/beauty/data/cleaned/clc/layer_coverage_EU/neighborhood/code_acker_zone2.tif already exists skipping...\n"
     ]
    },
    {
     "ename": "KeyboardInterrupt",
     "evalue": "",
     "output_type": "error",
     "traceback": [
      "\u001b[0;31m---------------------------------------------------------------------------\u001b[0m",
      "\u001b[0;31mKeyboardInterrupt\u001b[0m                         Traceback (most recent call last)",
      "Cell \u001b[0;32mIn[9], line 1\u001b[0m\n\u001b[0;32m----> 1\u001b[0m \u001b[43mwrite_specific_zone_mean\u001b[49m\u001b[43m(\u001b[49m\u001b[43mzone_dict\u001b[49m\u001b[43m)\u001b[49m\n",
      "Cell \u001b[0;32mIn[8], line 27\u001b[0m, in \u001b[0;36mwrite_specific_zone_mean\u001b[0;34m(input_dict)\u001b[0m\n\u001b[1;32m     25\u001b[0m meta \u001b[38;5;241m=\u001b[39m raster_in\u001b[38;5;241m.\u001b[39mmeta\u001b[38;5;241m.\u001b[39mcopy()\n\u001b[1;32m     26\u001b[0m na_value \u001b[38;5;241m=\u001b[39m raster_in\u001b[38;5;241m.\u001b[39mnodata\n\u001b[0;32m---> 27\u001b[0m array_in \u001b[38;5;241m=\u001b[39m \u001b[43mraster_in\u001b[49m\u001b[38;5;241;43m.\u001b[39;49m\u001b[43mread\u001b[49m\u001b[43m(\u001b[49m\u001b[38;5;241;43m1\u001b[39;49m\u001b[43m)\u001b[49m  \u001b[38;5;66;03m# Reading the first band\u001b[39;00m\n\u001b[1;32m     31\u001b[0m \u001b[38;5;28;01mif\u001b[39;00m os\u001b[38;5;241m.\u001b[39mpath\u001b[38;5;241m.\u001b[39mexists(output_path):\n\u001b[1;32m     32\u001b[0m     \u001b[38;5;28mprint\u001b[39m(\u001b[38;5;124mf\u001b[39m\u001b[38;5;124m\"\u001b[39m\u001b[38;5;132;01m{\u001b[39;00moutput_path\u001b[38;5;132;01m}\u001b[39;00m\u001b[38;5;124m already exists skipping...\u001b[39m\u001b[38;5;124m\"\u001b[39m)\n",
      "\u001b[0;31mKeyboardInterrupt\u001b[0m: "
     ]
    }
   ],
   "source": [
    "write_specific_zone_mean(zone_dict)"
   ]
  },
  {
   "cell_type": "code",
   "execution_count": null,
   "id": "2476cee3-4363-475a-b830-9be4aae58c90",
   "metadata": {},
   "outputs": [],
   "source": []
  }
 ],
 "metadata": {
  "kernelspec": {
   "display_name": ".venv",
   "language": "python",
   "name": "python3"
  },
  "language_info": {
   "codemirror_mode": {
    "name": "ipython",
    "version": 3
   },
   "file_extension": ".py",
   "mimetype": "text/x-python",
   "name": "python",
   "nbconvert_exporter": "python",
   "pygments_lexer": "ipython3",
   "version": "3.10.12"
  }
 },
 "nbformat": 4,
 "nbformat_minor": 5
}
