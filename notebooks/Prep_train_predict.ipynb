{
 "cells": [
  {
   "cell_type": "markdown",
   "metadata": {},
   "source": [
    "This notebook shows how to call the main python functions to preprocess, extract data for training, model training and predict a tif. \n",
    "Generally using this notebook is not recommended over calling the data extration, training and prediction scripts from the command line. \n",
    "The notebook takes about twice as long."
   ]
  },
  {
   "cell_type": "code",
   "execution_count": null,
   "metadata": {},
   "outputs": [
    {
     "name": "stdout",
     "output_type": "stream",
     "text": [
      "This is the rural_beauty module\n"
     ]
    }
   ],
   "source": [
    "from rural_beauty.config import models_dir\n",
    "import pathlib\n",
    "\n",
    "\n",
    "from rural_beauty import preprocessing         # function to get from the raw data to cleaned data ready for extraction. \n",
    "from rural_beauty import get_data_for_training # the function to create model data frames\n",
    "from rural_beauty import training_model        # the function to train a tree model\n",
    "from rural_beauty import predict_generic       # the function to predict a tif based on the model"
   ]
  },
  {
   "cell_type": "code",
   "execution_count": null,
   "metadata": {},
   "outputs": [],
   "source": [
    "preprocessing.main()\n",
    "\n",
    "# options:\n",
    "# preprocessing.main( --skip_DE --skip_UK --skip_CLC --skip_DEM --skip_OSM --skip_Hemerobie --no-skip_Protected --skip_Neighborhood)"
   ]
  },
  {
   "cell_type": "code",
   "execution_count": null,
   "metadata": {},
   "outputs": [],
   "source": [
    "# parameters for data generation\n",
    "country = 'DE'\n",
    "target_variable = 'beauty'\n",
    "sampling_method = 'all_pixels' # extracting all_pixels will take a long time. 60+ min on the IIASA VM101 server. \n",
    "\n",
    "\n",
    "# this is for training the model\n",
    "model_class      = 'XGB'\n",
    "class_balance    = 'asis'\n",
    "number_classes   = 7\n",
    "sugar            = str(number_classes) + '_'+ '021224'\n",
    "\n"
   ]
  },
  {
   "cell_type": "code",
   "execution_count": null,
   "metadata": {},
   "outputs": [
    {
     "name": "stdout",
     "output_type": "stream",
     "text": [
      "All files exist\n",
      "Extracting beauty's raster values\n"
     ]
    },
    {
     "name": "stderr",
     "output_type": "stream",
     "text": [
      "Extracting explanatory raster values: 100%|██████████| 68/68 [01:25<00:00,  1.26s/it]\n"
     ]
    },
    {
     "name": "stdout",
     "output_type": "stream",
     "text": [
      "Coordinate file written to /h/u145/hofer/MyDocuments/Granular/beauty/data/models/__extracted_points/DE/beauty/random_pixels/coords.csv\n",
      "Outcome file written to /h/u145/hofer/MyDocuments/Granular/beauty/data/models/__extracted_points/DE/beauty/random_pixels/outcome.csv\n",
      "Predictors file written to /h/u145/hofer/MyDocuments/Granular/beauty/data/models/__extracted_points/DE/beauty/random_pixels/predictors.csv\n",
      "Feature path json written to /h/u145/hofer/MyDocuments/Granular/beauty/data/models/__extracted_points/DE/beauty/random_pixels/feature_paths.json\n"
     ]
    }
   ],
   "source": [
    "# python3 rural_beauty/rural_beauty/get_data_for_training.py DE beauty all_pixels\n",
    "get_data_for_training.main(country=country, target_variable =  target_variable, sampling_method=sampling_method)"
   ]
  },
  {
   "cell_type": "code",
   "execution_count": null,
   "metadata": {},
   "outputs": [
    {
     "name": "stdout",
     "output_type": "stream",
     "text": [
      "Model Accuracy:      0.78\n",
      "Model F1:            0.77\n",
      "Model Kendall's Tau: 0.83\n",
      "Confusion matrix saved to: /h/u145/hofer/MyDocuments/Granular/beauty/data/models/DE__beauty__random_pixels__XGB__asis__7_021224/confusion_matrix.png\n"
     ]
    },
    {
     "data": {
      "text/plain": [
       "<Figure size 800x600 with 0 Axes>"
      ]
     },
     "metadata": {},
     "output_type": "display_data"
    }
   ],
   "source": [
    "# python3 rural_beauty/rural_beauty/training_model.py DE beauty XGB all_pixels asis 7 7_123456\n",
    "training_model.main(country          = country,\n",
    "                    target_variable  = target_variable,\n",
    "                    model_class      = model_class,\n",
    "                    sampling_method  = sampling_method,\n",
    "                    class_balance    = class_balance,\n",
    "                    sugar            = sugar,\n",
    "                    number_classes   = number_classes)"
   ]
  },
  {
   "cell_type": "code",
   "execution_count": 6,
   "metadata": {},
   "outputs": [
    {
     "name": "stdout",
     "output_type": "stream",
     "text": [
      "Finished writing the prediction to /h/u145/hofer/MyDocuments/Granular/beauty/data/models/DE__beauty__random_pixels__XGB__asis__7_021224/prediction.tif\n"
     ]
    }
   ],
   "source": [
    "# the prediction function takes a model folder (as crated by the training function)\n",
    "model_basename = f\"{country}__{target_variable}__{sampling_method}__{model_class}__{class_balance}__{sugar}\" # instead use something like \"__\".join(**kargs)\n",
    "model_folder   = models_dir / model_basename\n",
    "\n",
    "predict_generic.main(model_folder)"
   ]
  }
 ],
 "metadata": {
  "kernelspec": {
   "display_name": ".venv",
   "language": "python",
   "name": "python3"
  },
  "language_info": {
   "codemirror_mode": {
    "name": "ipython",
    "version": 3
   },
   "file_extension": ".py",
   "mimetype": "text/x-python",
   "name": "python",
   "nbconvert_exporter": "python",
   "pygments_lexer": "ipython3",
   "version": "3.10.12"
  }
 },
 "nbformat": 4,
 "nbformat_minor": 2
}
